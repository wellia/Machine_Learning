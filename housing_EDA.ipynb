{
  "nbformat": 4,
  "nbformat_minor": 0,
  "metadata": {
    "colab": {
      "name": "housing_EDA.ipynb",
      "provenance": [],
      "collapsed_sections": [],
      "include_colab_link": true
    },
    "kernelspec": {
      "display_name": "Python 3",
      "language": "python",
      "name": "python3"
    },
    "language_info": {
      "codemirror_mode": {
        "name": "ipython",
        "version": 3
      },
      "file_extension": ".py",
      "mimetype": "text/x-python",
      "name": "python",
      "nbconvert_exporter": "python",
      "pygments_lexer": "ipython3",
      "version": "3.7.4"
    }
  },
  "cells": [
    {
      "cell_type": "markdown",
      "metadata": {
        "id": "view-in-github",
        "colab_type": "text"
      },
      "source": [
        "<a href=\"https://colab.research.google.com/github/wellia/Machine_Learning/blob/main/housing_EDA.ipynb\" target=\"_parent\"><img src=\"https://colab.research.google.com/assets/colab-badge.svg\" alt=\"Open In Colab\"/></a>"
      ]
    },
    {
      "cell_type": "markdown",
      "metadata": {
        "id": "JtEbRsB1_P_j"
      },
      "source": [
        "\n",
        "\n",
        "##**Background**\n",
        "Selection of housing is always difficult for someone seeking for a suitable one as it includes various factors and preferences. People prefer to buy a house considering many criteria like- population, quality of life, financial capability, as well as social and natural environments around the housing block. In this assignment you will be helping people choosing suitable housing for them according to their needs.\n",
        "##**Dataset**\n",
        "**Dataset file name:** housing_dataset.csv\n",
        "\n",
        "**Dataset description:** Dataset contains total 10 features (columns). It contains the location, housing age, population, number of families in a housing (block), number of rooms, average income of the families in that housing, ocean proximity and other informaiton. Each row indicates a record of a housing block containing the features mentioned earlier.\n",
        "\n",
        "**Features:** \n",
        "\n",
        "1.   latitude (float): Latitude of the location of a housing in conventional geospace\n",
        "2.   longitude (float): Longitude of the location of a housing in conventional geospace\n",
        "3.   housing_age (int): Age of the housing in year, the higher number indicates the older housing\n",
        "4.    total_rooms (int): Total number of rooms in a housing\n",
        "5.    total_bedrooms (int): Total number of bedrooms in a housing\n",
        "6.    population (int): Total population of a housing\n",
        "7.    families (int): Total number of families living in a housing\n",
        "8.    average_income (float): Average income of the member of a housing in a scale of Tousand Dollar Per Month\n",
        "9.    ocean_proximity (string): Describing how close the housing is to the ocean\n",
        "10.   house_value (int): Average individual house price of a housing in Dollers\n"
      ]
    },
    {
      "cell_type": "code",
      "metadata": {
        "colab": {
          "base_uri": "https://localhost:8080/",
          "height": 68
        },
        "id": "Vn5IzbnYlHcD",
        "outputId": "d8b5b9bd-c0d8-4406-f6b7-c219cf7cd1c3"
      },
      "source": [
        "import pandas as pd\n",
        "import matplotlib.pyplot as plt\n",
        "import numpy as np\n",
        "from matplotlib.gridspec import GridSpec\n",
        "from pandas import DataFrame\n",
        "\n",
        "%matplotlib inline\n",
        "\n",
        "# accomodate display all columns\n",
        "pd.set_option('display.max_columns', 500)\n",
        "pd.set_option('display.width', 1000)\n",
        "\n",
        "# load data\n",
        "df_housing =  pd.read_csv('housing_dataset.csv')\n",
        "\n",
        "# do data cleaning when it's necessary\n",
        "# check columns that have null values\n",
        "null_columns=df_housing.columns[df_housing.isnull().any()]\n",
        "print('Columns that have missing values are')\n",
        "df_housing[null_columns].isnull().sum()\n",
        "\n",
        "# only column total_bedrooms that has null values. \n",
        "# I keep it as it is, I assume null as unknown value instead of 0. The system will ignore null values when calculating the mean"
      ],
      "execution_count": null,
      "outputs": [
        {
          "output_type": "stream",
          "text": [
            "Columns that have missing values are\n"
          ],
          "name": "stdout"
        },
        {
          "output_type": "execute_result",
          "data": {
            "text/plain": [
              "total_bedrooms    207\n",
              "dtype: int64"
            ]
          },
          "metadata": {
            "tags": []
          },
          "execution_count": 1
        }
      ]
    },
    {
      "cell_type": "markdown",
      "metadata": {
        "id": "rQs2cqHo_7wC"
      },
      "source": [
        "\n",
        "\n",
        "##**Part-1: Basic Calculations:**\n",
        "\n",
        "\n",
        "1.   Find the distances of the farthest and nearest housing blocks from the house block described in the first row of the dataset."
      ]
    },
    {
      "cell_type": "markdown",
      "metadata": {
        "id": "Z5S5wT7HlHcJ"
      },
      "source": [
        "I use Haversine instead of Vincenty because of its simplicity. Its lack of accuracy is not a major issue in selecting a housing\n",
        "\n",
        "Reference for haversine_distance function: Medium. 2020. Here’S How To Calculate Distance Between 2 Geolocations In Python. [online] Available at: https://towardsdatascience.com/heres-how-to-calculate-distance-between-2-geolocations-in-python-93ecab5bbba4 [Accessed 25 July 2020]."
      ]
    },
    {
      "cell_type": "code",
      "metadata": {
        "colab": {
          "base_uri": "https://localhost:8080/",
          "height": 51
        },
        "id": "O0r1-UqH__3s",
        "outputId": "eadd1b93-791f-4492-d125-f7dcbe69dca5"
      },
      "source": [
        "# define haversine distance function\n",
        "def haversine_distance(lat1, lon1, lat2, lon2):\n",
        "   r = 6371\n",
        "   phi1 = np.radians(lat1)\n",
        "   phi2 = np.radians(lat2)\n",
        "   delta_phi = np.radians(lat2 - lat1)\n",
        "   delta_lambda = np.radians(lon2 - lon1)\n",
        "   a = np.sin(delta_phi / 2)**2 + np.cos(phi1) * np.cos(phi2) * np.sin(delta_lambda / 2)**2\n",
        "   res = r * (2 * np.arctan2(np.sqrt(a), np.sqrt(1 - a)))\n",
        "   return np.round(res, 2)\n",
        "\n",
        "# load data\n",
        "df_housing =  pd.read_csv('housing_dataset.csv')\n",
        "\n",
        "# get first row\n",
        "start_lon = df_housing['longitude'].iloc[0] \n",
        "start_lat = df_housing['latitude'].iloc[0]\n",
        "\n",
        "# calculate distance from the first row house\n",
        "distances_km = []\n",
        "for row in df_housing.itertuples(index=False):\n",
        "    distances_km.append(\n",
        "        haversine_distance(start_lat, start_lon, row.latitude, row.longitude)\n",
        "    )\n",
        "\n",
        "df_housing['distances'] = distances_km\n",
        "\n",
        "nearest_distance = df_housing['distances'].nsmallest(2).iloc[1]\n",
        "fartherst_distance = df_housing['distances'].max()\n",
        "\n",
        "df_housing.drop(['distances'], axis=1)\n",
        "\n",
        "print('Nearest distance:', round(nearest_distance, 2), 'km')\n",
        "print('Fartherst house:', round(fartherst_distance, 2), 'km')"
      ],
      "execution_count": null,
      "outputs": [
        {
          "output_type": "stream",
          "text": [
            "Nearest distance: 0.88 km\n",
            "Fartherst house: 896.28 km\n"
          ],
          "name": "stdout"
        }
      ]
    },
    {
      "cell_type": "markdown",
      "metadata": {
        "id": "CGNHL-MAACPJ"
      },
      "source": [
        "2.   Calculate the average age of the house blocks near the ocean."
      ]
    },
    {
      "cell_type": "code",
      "metadata": {
        "id": "-PmJE7wPAHeQ",
        "scrolled": false,
        "outputId": "2e90eea3-34c4-4d66-d635-801ea79629fa"
      },
      "source": [
        "# filter by near ocean and calculate the average house_age\n",
        "df_near_ocean_houses = df_housing.loc[df_housing['ocean_proximity'] == 'NEAR OCEAN']\n",
        "average_age = df_near_ocean_houses.housing_age.mean()\n",
        "print('Average age of houses near the ocean is %.2f years' % round(average_age, 2))"
      ],
      "execution_count": null,
      "outputs": [
        {
          "output_type": "stream",
          "text": [
            "Average age of houses near the ocean is 29.35 years\n"
          ],
          "name": "stdout"
        }
      ]
    },
    {
      "cell_type": "markdown",
      "metadata": {
        "id": "7xx5_8BlASae"
      },
      "source": [
        "3.   Find the income of the housing block with the most and least population density (per family)."
      ]
    },
    {
      "cell_type": "code",
      "metadata": {
        "id": "mC3E-Fq6AYTm",
        "outputId": "6943c2be-cd32-42a0-93f7-fdfa8583863c"
      },
      "source": [
        "# calculate population density (population / family)\n",
        "df_housing['density'] = df_housing.population / df_housing.families\n",
        "\n",
        "# find the most and least dense\n",
        "most_dense = df_housing['density'].max()\n",
        "least_dense = df_housing['density'].min()\n",
        "print(most_dense)\n",
        "print(least_dense)\n",
        "\n",
        "# find records that have most and least density\n",
        "df_housing_most_dense = df_housing.loc[df_housing['density'] == most_dense]\n",
        "df_housing_least_dense = df_housing.loc[df_housing['density'] == least_dense]\n",
        "\n",
        "# calculate income of most and least density\n",
        "average_income_most_dense = df_housing_most_dense.average_income.mean() * 1000\n",
        "average_income_least_dense = df_housing_least_dense.average_income.mean() * 1000\n",
        "\n",
        "# clean up data\n",
        "df_housing.drop(['density'], axis=1, inplace=True)\n",
        "\n",
        "print('Average income of the most dense population (per family) is ${:0,.2f}/month'.format(average_income_most_dense))\n",
        "print('Average income of the least dense population (per family) is ${:0,.2f}/month'.format(average_income_least_dense))"
      ],
      "execution_count": null,
      "outputs": [
        {
          "output_type": "stream",
          "text": [
            "1243.3333333333333\n",
            "0.6923076923076923\n",
            "Average income of the most dense population (per family) is $10,226.40/month\n",
            "Average income of the least dense population (per family) is $2,589.30/month\n"
          ],
          "name": "stdout"
        }
      ]
    },
    {
      "cell_type": "markdown",
      "metadata": {
        "id": "fvMmRTzpAd5J"
      },
      "source": [
        "4.   Calculate the price difference between the latest and oldest housing block from the dataset."
      ]
    },
    {
      "cell_type": "code",
      "metadata": {
        "colab": {
          "base_uri": "https://localhost:8080/",
          "height": 85
        },
        "id": "4rKQUPpyAfWQ",
        "outputId": "a4c8d207-7c3c-49df-d6d9-a8af8f2af228"
      },
      "source": [
        "# find oldest and latest housing blocks\n",
        "oldest_housing = df_housing['housing_age'].max()\n",
        "latest_housing = df_housing['housing_age'].min()\n",
        "\n",
        "# find records that match the oldest and latest housing age\n",
        "df_oldest = df_housing.loc[df_housing['housing_age'] == oldest_housing]\n",
        "df_latest = df_housing.loc[df_housing['housing_age'] == latest_housing]\n",
        "\n",
        "# use mean instead sum \n",
        "# to have a meaningful comparison value using sum, those 2 housing blocks must have the same number of housing.\n",
        "average_price_oldest = df_oldest.house_value.mean()\n",
        "average_price_latest = df_latest.house_value.mean()\n",
        "\n",
        "# calculate price difference\n",
        "price_difference = average_price_oldest - average_price_latest\n",
        "\n",
        "print ('In average price, the oldest is ${:0,.2f} more than and latest housings'.format(price_difference))\n"
      ],
      "execution_count": null,
      "outputs": [
        {
          "output_type": "stream",
          "text": [
            "In average price, the oldest is $131,120.87 more than and latest housings\n"
          ],
          "name": "stdout"
        }
      ]
    },
    {
      "cell_type": "markdown",
      "metadata": {
        "id": "pZl4zZM9Akg-"
      },
      "source": [
        "5.   Calculate the cheapest price per room from the dataset."
      ]
    },
    {
      "cell_type": "code",
      "metadata": {
        "id": "NgSh7WpaAlb1",
        "outputId": "7f3548bc-ba4a-40df-af67-583a9f891e57"
      },
      "source": [
        "# calculate cheapest price per room\n",
        "# house_value is per house whereas total_rooms is per housing block\n",
        "# we must convert house_value into house_value per housing block by multiple by n value. n can be any value, here n = 10\n",
        "price_per_room_list = df_housing.house_value * 10 / df_housing.total_rooms\n",
        "print ('The cheapest price per room is ${:0,.2f}'.format(price_per_room_list.min()))"
      ],
      "execution_count": null,
      "outputs": [
        {
          "output_type": "stream",
          "text": [
            "The cheapest price per room is $15.95\n"
          ],
          "name": "stdout"
        }
      ]
    },
    {
      "cell_type": "markdown",
      "metadata": {
        "id": "YpRQNYwGAncM"
      },
      "source": [
        "6.   Calculate the population density (per family) for the most and least wealthy housing blocks in the dataset."
      ]
    },
    {
      "cell_type": "code",
      "metadata": {
        "colab": {
          "base_uri": "https://localhost:8080/",
          "height": 224
        },
        "id": "RtKpkz57AqVl",
        "outputId": "0b876e52-3e08-4919-c700-d89099122656"
      },
      "source": [
        "# calculate the most and least wealthy using average_income instead of house_value because we don't have information\n",
        "# whether the house is owner occupant owner-occupied property\n",
        "most_wealthy = df_housing['average_income'].max()\n",
        "least_wealthy = df_housing['average_income'].min()\n",
        "\n",
        "# find housings that match the definition most and least wealthy\n",
        "df_most_wealthy = df_housing.loc[df_housing['average_income'] == most_wealthy]\n",
        "df_least_wealthy = df_housing.loc[df_housing['average_income'] == least_wealthy]\n",
        "\n",
        "# calculate population density\n",
        "density_most_wealthy = df_most_wealthy.population / df_most_wealthy.families\n",
        "density_least_wealthy = df_least_wealthy.population / df_least_wealthy.families\n",
        "\n",
        "print ('The average density in most wealthy housing is %.2f and in least wealthy housing is %.2f' \n",
        "       % (density_most_wealthy.mean(), density_least_wealthy.mean()))"
      ],
      "execution_count": null,
      "outputs": [
        {
          "output_type": "stream",
          "text": [
            "3.307545896889619\n",
            "The average density in most wealthy housing is 3.31 and in least wealthy housing is 3.48\n"
          ],
          "name": "stdout"
        }
      ]
    },
    {
      "cell_type": "markdown",
      "metadata": {
        "id": "nj1raWPgAsiy"
      },
      "source": [
        "7.   Calculate and print the total housing blocks located in the same place."
      ]
    },
    {
      "cell_type": "code",
      "metadata": {
        "id": "AHI-K9m-AwDR",
        "outputId": "cd437c1c-5337-4be2-cf0a-671d94d0c3b0"
      },
      "source": [
        "# Assumption: same place means same longitude and latitude\n",
        "\n",
        "# count how many housings that belong to the same location\n",
        "df_place = DataFrame({'totalHousingBlocks' : df_housing.groupby( ['longitude', 'latitude'] ).size()}).reset_index()\n",
        "\n",
        "# only interest in data which there are more than 1 housing in the group\n",
        "df_place = df_place[df_place.totalHousingBlocks > 1]\n",
        "\n",
        "print('List of total housing blocks located in the same place\\n')\n",
        "print(df_place)\n"
      ],
      "execution_count": null,
      "outputs": [
        {
          "output_type": "stream",
          "text": [
            "List of total housing blocks located in the same place\n",
            "\n",
            "       longitude  latitude  totalHousingBlocks\n",
            "18       -124.18     40.78                   3\n",
            "19       -124.18     40.79                   2\n",
            "27       -124.17     40.80                   3\n",
            "32       -124.16     40.78                   3\n",
            "33       -124.16     40.79                   3\n",
            "...          ...       ...                 ...\n",
            "12531    -115.52     32.97                   2\n",
            "12532    -115.52     32.98                   2\n",
            "12543    -115.49     32.67                   3\n",
            "12555    -115.37     32.81                   2\n",
            "12556    -115.37     32.82                   2\n",
            "\n",
            "[4353 rows x 3 columns]\n"
          ],
          "name": "stdout"
        }
      ]
    },
    {
      "cell_type": "markdown",
      "metadata": {
        "id": "44Ak48NQA1G8"
      },
      "source": [
        "8.   Calculate the price of expensive room grouped by ocean proximity."
      ]
    },
    {
      "cell_type": "code",
      "metadata": {
        "id": "wuMgmiElA2Eo",
        "outputId": "554316ef-8d2e-418d-96c7-8eb262e224e8"
      },
      "source": [
        "# Assume there are the same number of houses in a block (n = 10) \n",
        "df_housing['price_per_room'] = round((df_housing.house_value * 10)/df_housing.total_rooms, 2)\n",
        "\n",
        "df_rooms = df_housing.groupby(\"ocean_proximity\")[\"price_per_room\"].max()\n",
        "\n",
        "# clean up data\n",
        "df_housing.drop(['price_per_room'], axis=1, inplace=True)\n",
        "\n",
        "df_rooms\n",
        "\n"
      ],
      "execution_count": null,
      "outputs": [
        {
          "output_type": "execute_result",
          "data": {
            "text/plain": [
              "ocean_proximity\n",
              "<1H OCEAN     225000.00\n",
              "INLAND        687500.00\n",
              "ISLAND          4518.07\n",
              "NEAR BAY      625001.25\n",
              "NEAR OCEAN    233333.33\n",
              "Name: price_per_room, dtype: float64"
            ]
          },
          "metadata": {
            "tags": []
          },
          "execution_count": 14
        }
      ]
    },
    {
      "cell_type": "markdown",
      "metadata": {
        "id": "DtPZm2IpA4_u"
      },
      "source": [
        "##**Part-2: Visualization:**  *(6 marks: 3 question x 2 marks each)*\n",
        "\n",
        "\n",
        "1.   Draw the population scatter plot against housing age and another against ocean proximity. From the graph conclude an assumption."
      ]
    },
    {
      "cell_type": "markdown",
      "metadata": {
        "id": "MVlXrLXKZc4c"
      },
      "source": [
        "Conclusion: There is a weak negative linear relationship between population and housing age, population slightly decreases as housing ages. Majority of population are at 5,000 and under. There are a couple potential outliers at population above 25,000.\n",
        "\n",
        "For population vs ocean_proximity; I cannot conclude the trend/relationship since those ocean proximities are nominal data. The graph shows that most people live inland or '< 1h OCEAN'. Some live near ocean and a small number of people live on islands. There are potential outliers at '< 1H OCEAN' and population above 25,000"
      ]
    },
    {
      "cell_type": "code",
      "metadata": {
        "colab": {
          "base_uri": "https://localhost:8080/",
          "height": 1000
        },
        "id": "iKJ8-NjgA9fE",
        "outputId": "14700b55-48d4-4d3a-8fad-dcb9a0329adf"
      },
      "source": [
        "x = df_housing.housing_age\n",
        "y = df_housing.population\n",
        "\n",
        "# plot it\n",
        "fig = plt.figure(figsize=(10, 8))\n",
        "plt.scatter(x, y)\n",
        "\n",
        "# add trend line\n",
        "plt.plot(np.unique(x), np.poly1d(np.polyfit(x, y, 1))(np.unique(x)), color='r')\n",
        "\n",
        "fig.suptitle('Population vs Housing age', fontsize=20)\n",
        "plt.ylabel('Population', fontsize=14)\n",
        "plt.xlabel('Housing Age (years)', fontsize=14)\n",
        "plt.show()\n",
        "\n",
        "fig = plt.figure(figsize=(8, 8))\n",
        "x = df_housing.ocean_proximity\n",
        "plt.scatter(x, y)\n",
        "fig.suptitle('Population vs Ocean proximity', fontsize=20)\n",
        "plt.ylabel('Population', fontsize=14)\n",
        "plt.xlabel('Ocean Proximity')\n",
        "plt.show()\n"
      ],
      "execution_count": null,
      "outputs": [
        {
          "output_type": "display_data",
          "data": {
            "image/png": "[encoded data removed]",
            "text/plain": [
              "<Figure size 720x576 with 1 Axes>"
            ]
          },
          "metadata": {
            "tags": [],
            "needs_background": "light"
          }
        },
        {
          "output_type": "display_data",
          "data": {
            "image/png": "[encoded data removed]",
            "text/plain": [
              "<Figure size 576x576 with 1 Axes>"
            ]
          },
          "metadata": {
            "tags": [],
            "needs_background": "light"
          }
        }
      ]
    },
    {
      "cell_type": "markdown",
      "metadata": {
        "id": "WAm9CdIsA_yi"
      },
      "source": [
        "2.  Draw a bar diagram of average values of all suitable columns. (excluding latitude, longitude and ocean proximity of course)."
      ]
    },
    {
      "cell_type": "code",
      "metadata": {
        "colab": {
          "base_uri": "https://localhost:8080/",
          "height": 571
        },
        "id": "bQg6SM_jlHc4",
        "outputId": "1ec8b92e-0050-4a10-b16a-8c1688691e6b"
      },
      "source": [
        "# use log as y axis to accomodate large scale ranges.\n",
        "# add unit measurements in x-axis labels to accomodate different measurement units\n",
        "# add mean value on top of the bars to better visualisation of important value\n",
        "\n",
        "included_cols = {'housing_age':'year','total_rooms':'unit','total_bedrooms':'unit',\n",
        "                 'population':'unit','families': 'unit','average_income':'$','house_value':'$'}\n",
        "col_list = included_cols.keys()\n",
        "x = []\n",
        "y = []\n",
        "y_labels = []\n",
        "\n",
        "for col in df_housing.columns:\n",
        "    if col in col_list:\n",
        "        average = round(df_housing[col].mean(),0)\n",
        "        if (col == 'average_income'):\n",
        "            average = average * 1000\n",
        "        x.append(col)\n",
        "        y.append(average)\n",
        "        y_labels.append(col + '\\n(in ' + included_cols[col] + ')')\n",
        "\n",
        "fig = plt.figure(figsize=(12, 8))\n",
        "ax = fig.add_subplot(111)\n",
        "fig.suptitle('Average of all features', fontsize=20)\n",
        "plt.ylabel('Average', fontsize=14)\n",
        "plt.xlabel('Features', fontsize=14)\n",
        "ax.bar(x, y)\n",
        "\n",
        "plt.yscale('log',basey=10) \n",
        "ax.set_xticklabels(y_labels)\n",
        "\n",
        "# make labels \n",
        "rects = ax.patches\n",
        "labels = []\n",
        "for i in range(len(rects)):\n",
        "    labels.append(y[i])\n",
        "\n",
        "for rect, label in zip(rects, labels):\n",
        "    height = rect.get_height()\n",
        "    ax.text(rect.get_x() + rect.get_width() / 2, height + 5, label, ha='center', va='bottom')"
      ],
      "execution_count": null,
      "outputs": [
        {
          "output_type": "display_data",
          "data": {
            "image/png": "[encoded data removed]",
            "text/plain": [
              "<Figure size 864x576 with 1 Axes>"
            ]
          },
          "metadata": {
            "tags": [],
            "needs_background": "light"
          }
        }
      ]
    },
    {
      "cell_type": "markdown",
      "metadata": {
        "id": "EupiTHf8BEvA"
      },
      "source": [
        "3.   Visualize the differences in housing prices from the average price of housing using a bar diagram."
      ]
    },
    {
      "cell_type": "code",
      "metadata": {
        "colab": {
          "base_uri": "https://localhost:8080/",
          "height": 575
        },
        "id": "j6tBhj2PBIZK",
        "outputId": "a4011e4d-215a-4daa-ffb9-10778a9049b7"
      },
      "source": [
        "# average house for all \n",
        "average_house_value = df_housing.house_value.mean()\n",
        "\n",
        "# note that there are too many housings therefore it is more beneficial if we categorise them into ocean_proximity\n",
        "\n",
        "# get house value for each ocean_proximity\n",
        "ocean_proximity = df_housing.groupby(\"ocean_proximity\")[\"house_value\"].mean()\n",
        "df_ocean_proximity = ocean_proximity.to_frame().reset_index()\n",
        "\n",
        "# calculate difference house value with average house \n",
        "df_ocean_proximity['house_value_difference'] = df_ocean_proximity.house_value - average_house_value\n",
        "\n",
        "# plot it\n",
        "fig = plt.figure(figsize=(12, 8))\n",
        "plt.bar(df_ocean_proximity.ocean_proximity, df_ocean_proximity.house_value_difference, color='green')\n",
        "plt.xlabel('Ocean proximity', fontsize=14)\n",
        "plt.ylabel('Difference in average house value ($)', fontsize=14)\n",
        "fig.suptitle('The differences in housing prices from the average', fontsize=20)\n",
        "\n"
      ],
      "execution_count": null,
      "outputs": [
        {
          "output_type": "execute_result",
          "data": {
            "text/plain": [
              "Text(0.5, 0.98, 'The differences in housing prices from the average')"
            ]
          },
          "metadata": {
            "tags": []
          },
          "execution_count": 17
        },
        {
          "output_type": "display_data",
          "data": {
            "image/png": "[encoded data removed]",
            "text/plain": [
              "<Figure size 864x576 with 1 Axes>"
            ]
          },
          "metadata": {
            "tags": [],
            "needs_background": "light"
          }
        }
      ]
    },
    {
      "cell_type": "markdown",
      "metadata": {
        "id": "FgBaJ0rWBKk-"
      },
      "source": [
        "##**Part-3: File Management:**  *(6 marks: 2 question x 3 marks each)*\n",
        "\n",
        " \n",
        "\n",
        "1.   Save the details of all housing blocks in a csv file having houses near oceans and  lower than the average of the housing value."
      ]
    },
    {
      "cell_type": "code",
      "metadata": {
        "colab": {
          "base_uri": "https://localhost:8080/",
          "height": 119
        },
        "id": "c0BR_AMxBOu_",
        "outputId": "0b9d810b-ae7c-4569-cdfc-9479c44e312f"
      },
      "source": [
        "import os\n",
        "\n",
        "file_name = 'new_housing_dataset.csv'\n",
        "\n",
        "# remove if file is exists\n",
        "if os.path.exists(file_name):\n",
        "  os.remove(file_name)\n",
        "\n",
        "# filter by near ocean and house value lower than average house value\n",
        "average_house_value = df_housing.house_value.mean()\n",
        "df_filter = df_housing[(df_housing.ocean_proximity == 'NEAR OCEAN') & (df_housing.house_value < average_house_value)]\n",
        "\n",
        "# save to the default directory\n",
        "df_filter.to_csv('new_housing_dataset.csv', index=False) \n",
        "\n",
        "# read back to verify the content\n",
        "if os.path.exists(file_name):\n",
        "  df_filter =  pd.read_csv(file_name)\n",
        "  print(df_filter.head())\n"
      ],
      "execution_count": null,
      "outputs": [
        {
          "output_type": "stream",
          "text": [
            "   longitude  latitude  housing_age  total_rooms  total_bedrooms  population  families  average_income ocean_proximity  house_value  distances\n",
            "0    -124.17     41.80           16         2739           480.0        1259       436          3.7557      NEAR OCEAN       109400     466.26\n",
            "1    -124.30     41.80           19         2672           552.0        1298       478          1.9797      NEAR OCEAN        85800     470.31\n",
            "2    -124.23     41.75           11         3159           616.0        1343       479          2.4805      NEAR OCEAN        73200     462.95\n",
            "3    -124.21     41.77           17         3461           722.0        1947       647          2.5795      NEAR OCEAN        68400     464.39\n",
            "4    -124.19     41.78           15         3140           714.0        1645       640          1.6654      NEAR OCEAN        74600     464.80\n"
          ],
          "name": "stdout"
        }
      ]
    },
    {
      "cell_type": "markdown",
      "metadata": {
        "id": "KDM2MY16-qHs"
      },
      "source": [
        "2.   Create a new housing dataset (a csv file) having only the location, total rooms and housing price information.\n"
      ]
    },
    {
      "cell_type": "code",
      "metadata": {
        "colab": {
          "base_uri": "https://localhost:8080/",
          "height": 119
        },
        "id": "uwmK7HfYdzHd",
        "outputId": "f1c433f2-36c1-4ea2-e330-d771e71e47c9"
      },
      "source": [
        "# target file name\n",
        "file_name = 'new2_housing_dataset.csv'\n",
        "\n",
        "# remove if file is exists\n",
        "if os.path.exists(file_name):\n",
        "  os.remove(file_name)\n",
        "\n",
        "# select columns\n",
        "df_filter = df_housing[['longitude', 'latitude', 'total_rooms', 'house_value']]\n",
        "\n",
        "# save to file\n",
        "df_filter.to_csv(file_name, index=False) \n",
        "\n",
        "# read back to verify the content\n",
        "if os.path.exists(file_name):\n",
        "  df_filter =  pd.read_csv(file_name)\n",
        "  print(df_filter.head())\n",
        "\n"
      ],
      "execution_count": null,
      "outputs": [
        {
          "output_type": "stream",
          "text": [
            "   longitude  latitude  total_rooms  house_value\n",
            "0    -122.23     37.88          880       452600\n",
            "1    -122.22     37.86         7099       358500\n",
            "2    -122.24     37.85         1467       352100\n",
            "3    -122.25     37.85         1274       341300\n",
            "4    -122.25     37.85         1627       342200\n"
          ],
          "name": "stdout"
        }
      ]
    },
    {
      "cell_type": "code",
      "metadata": {
        "id": "WEGvGRNHZc4g"
      },
      "source": [
        ""
      ],
      "execution_count": null,
      "outputs": []
    }
  ]
}