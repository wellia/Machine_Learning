{
  "nbformat": 4,
  "nbformat_minor": 0,
  "metadata": {
    "colab": {
      "name": "Clustering_PCA.ipynb",
      "provenance": [],
      "collapsed_sections": [],
      "include_colab_link": true
    },
    "kernelspec": {
      "display_name": "Python 3",
      "language": "python",
      "name": "python3"
    },
    "language_info": {
      "codemirror_mode": {
        "name": "ipython",
        "version": 3
      },
      "file_extension": ".py",
      "mimetype": "text/x-python",
      "name": "python",
      "nbconvert_exporter": "python",
      "pygments_lexer": "ipython3",
      "version": "3.7.4"
    }
  },
  "cells": [
    {
      "cell_type": "markdown",
      "metadata": {
        "id": "view-in-github",
        "colab_type": "text"
      },
      "source": [
        "<a href=\"https://colab.research.google.com/github/wellia/Machine_Learning/blob/main/Clustering_PCA.ipynb\" target=\"_parent\"><img src=\"https://colab.research.google.com/assets/colab-badge.svg\" alt=\"Open In Colab\"/></a>"
      ]
    },
    {
      "cell_type": "code",
      "metadata": {
        "colab": {
          "base_uri": "https://localhost:8080/",
          "height": 187
        },
        "id": "mDhOlLkEE7lQ",
        "outputId": "38053258-3683-4d96-9245-043c86a29683"
      },
      "source": [
        "# do this to install pyclustering\n",
        "!pip install pyclustering\n",
        "\n",
        "import pandas as pd\n",
        "import numpy as np\n",
        "\n",
        "import matplotlib.pyplot as plt\n",
        "\n",
        "from sklearn import metrics\n",
        "from sklearn.decomposition import PCA\n",
        "from sklearn.preprocessing import StandardScaler\n",
        "from sklearn.cluster import KMeans\n",
        "\n",
        "np.random.seed(1)"
      ],
      "execution_count": null,
      "outputs": [
        {
          "output_type": "stream",
          "text": [
            "Requirement already satisfied: pyclustering in c:\\users\\mama\\apps\\anaconda3\\lib\\site-packages (0.9.3.1)\n",
            "Requirement already satisfied: scipy in c:\\users\\mama\\apps\\anaconda3\\lib\\site-packages (from pyclustering) (1.4.1)\n",
            "Requirement already satisfied: matplotlib in c:\\users\\mama\\apps\\anaconda3\\lib\\site-packages (from pyclustering) (3.2.2)\n",
            "Requirement already satisfied: numpy in c:\\users\\mama\\apps\\anaconda3\\lib\\site-packages (from pyclustering) (1.16.5)\n",
            "Requirement already satisfied: Pillow in c:\\users\\mama\\apps\\anaconda3\\lib\\site-packages (from pyclustering) (6.2.0)\n",
            "Requirement already satisfied: python-dateutil>=2.1 in c:\\users\\mama\\apps\\anaconda3\\lib\\site-packages (from matplotlib->pyclustering) (2.8.0)\n",
            "Requirement already satisfied: cycler>=0.10 in c:\\users\\mama\\apps\\anaconda3\\lib\\site-packages (from matplotlib->pyclustering) (0.10.0)\n",
            "Requirement already satisfied: pyparsing!=2.0.4,!=2.1.2,!=2.1.6,>=2.0.1 in c:\\users\\mama\\apps\\anaconda3\\lib\\site-packages (from matplotlib->pyclustering) (2.4.2)\n",
            "Requirement already satisfied: kiwisolver>=1.0.1 in c:\\users\\mama\\apps\\anaconda3\\lib\\site-packages (from matplotlib->pyclustering) (1.1.0)\n",
            "Requirement already satisfied: six>=1.5 in c:\\users\\mama\\apps\\anaconda3\\lib\\site-packages (from python-dateutil>=2.1->matplotlib->pyclustering) (1.12.0)\n",
            "Requirement already satisfied: setuptools in c:\\users\\mama\\apps\\anaconda3\\lib\\site-packages (from kiwisolver>=1.0.1->matplotlib->pyclustering) (41.4.0)\n"
          ],
          "name": "stdout"
        }
      ]
    },
    {
      "cell_type": "code",
      "metadata": {
        "id": "crKN9O9jKi4w"
      },
      "source": [
        "# load dataset into Pandas DataFrame\n",
        "url = \"clustering.csv\"\n",
        "df = pd.read_csv(url)\n",
        "\n",
        "features = ['height', 'length', 'width', 'std', 'min', 'max', 'kurtosis']\n",
        "# Separating out the features\n",
        "X = df.loc[:, features].values\n",
        "# Separating out the target, y_true will be used as ground base \n",
        "y_true = df.loc[:,['Class']].values\n",
        "#print(set(y_true.flatten())) # uncomment to find out the classes - unique values of y_true are 0, 1, and 2\n",
        "# Standardizing the features\n",
        "x_true = StandardScaler().fit_transform(X)\n"
      ],
      "execution_count": null,
      "outputs": []
    },
    {
      "cell_type": "markdown",
      "metadata": {
        "id": "oYFXM_D7HCHb"
      },
      "source": [
        "## Part 1: Clustering\n",
        "\n",
        "Read the file and separate the class and feature matrix."
      ]
    },
    {
      "cell_type": "markdown",
      "metadata": {
        "id": "3CYvoztIKjoq"
      },
      "source": [
        "2. Determine the number of clusters from the dataset. Is this same as the actual number of classes in the dataset?"
      ]
    },
    {
      "cell_type": "markdown",
      "metadata": {
        "id": "Sx8SymvsboYp"
      },
      "source": [
        "Explaination: From the graph we can see the sum of squared distances drops significantly until point 3 then it flattens. the elbow forms at k = 3. Therefore the optimal number of clusters is 3. It is the same as the actual number of classes in the dataset"
      ]
    },
    {
      "cell_type": "code",
      "metadata": {
        "colab": {
          "base_uri": "https://localhost:8080/",
          "height": 279
        },
        "id": "WFia7uNt5POP",
        "scrolled": false,
        "outputId": "3e095a95-f60f-4548-c2c4-cac9b8c4e2d6"
      },
      "source": [
        "# finding number of clusters\n",
        "\n",
        "def draw_elbow (x):\n",
        "    totSqrdDist=[]\n",
        "    kRange=range(1, 10)\n",
        "    for k in kRange:\n",
        "        kmns=KMeans(n_clusters=k).fit(x)\n",
        "        totSqrdDist.append(kmns.inertia_)\n",
        "    plt.plot(kRange,totSqrdDist,'-xr')\n",
        "    plt.ylabel('Sum of squared distances')\n",
        "    plt.xlabel('Number of clusters')\n",
        "    plt.title('The Elbow Method showing the optimal k')\n",
        "    plt.show()\n",
        "    \n",
        "draw_elbow(x_true)"
      ],
      "execution_count": null,
      "outputs": [
        {
          "output_type": "display_data",
          "data": {
            "image/png": "[encoded data removed]",
            "text/plain": [
              "<Figure size 432x288 with 1 Axes>"
            ]
          },
          "metadata": {
            "tags": [],
            "needs_background": "light"
          }
        }
      ]
    },
    {
      "cell_type": "markdown",
      "metadata": {
        "id": "vnVDvlCui-OA"
      },
      "source": [
        "Answer: The purity score using three clusters is 91.9%.\n"
      ]
    },
    {
      "cell_type": "markdown",
      "metadata": {
        "id": "lomdzPf33Ga8"
      },
      "source": [
        "3. Perform K-Means clustering on the complete dataset and report purity score. "
      ]
    },
    {
      "cell_type": "code",
      "metadata": {
        "id": "hC5sG-BMezro"
      },
      "source": [
        "# declare purity score function\n",
        "def purity_score(y_true, y_pred):\n",
        "    contingency_matrix = metrics.cluster.contingency_matrix(y_true, y_pred) #confusion matrix\n",
        "    return np.sum(np.amax(contingency_matrix, axis=0)) / np.sum(contingency_matrix) #return purity\n",
        "\n",
        "# reference: https://stackoverflow.com/questions/34047540/python-clustering-purity-metric/51672699#51672699"
      ],
      "execution_count": null,
      "outputs": []
    },
    {
      "cell_type": "code",
      "metadata": {
        "colab": {
          "base_uri": "https://localhost:8080/",
          "height": 34
        },
        "id": "UaI08RF5KoPK",
        "outputId": "96bf1cd6-0970-4d72-95d9-2e1c45cef2c3"
      },
      "source": [
        "# perform K-Means clustering with number of cluster input as in task 2 \n",
        "\n",
        "# define kMeans functions\n",
        "def calculate_kmeans(num_clusters, data):\n",
        "    np.random.seed(1)\n",
        "    kmeans = KMeans(n_clusters=num_clusters, init='k-means++')\n",
        "    y_pred = kmeans.fit_predict(data)\n",
        "    return y_pred\n",
        "\n",
        "# perform K-means \n",
        "y_pred = calculate_kmeans(3, x_true)\n",
        "ps = purity_score(y_true, y_pred)\n",
        "print('Purity score:', round(ps*100, 2))"
      ],
      "execution_count": null,
      "outputs": [
        {
          "output_type": "stream",
          "text": [
            "Purity score: 91.9\n"
          ],
          "name": "stdout"
        }
      ]
    },
    {
      "cell_type": "markdown",
      "metadata": {
        "id": "CsImMLOzK1dV"
      },
      "source": [
        "4. Compare the purity score of k-means clustering for different distance metrics."
      ]
    },
    {
      "cell_type": "markdown",
      "metadata": {
        "id": "dI6GPMglQbvI"
      },
      "source": [
        "Explanation: Purity score for  Manhattan  :  89%, Purity score for  Euclidean  :  92%, \n",
        "Purity score for  Chebyshev  :  89%, Purity score for  Minkowski  :  91%"
      ]
    },
    {
      "cell_type": "markdown",
      "metadata": {
        "id": "8dRVASyLQbvJ"
      },
      "source": [
        "Select the best distance metric and explain why this distance metric is best for the given dataset."
      ]
    },
    {
      "cell_type": "code",
      "metadata": {
        "colab": {
          "base_uri": "https://localhost:8080/",
          "height": 85
        },
        "id": "DUh4wvdPE7lx",
        "outputId": "da923195-b15b-43a9-8b82-2d2a45de0244"
      },
      "source": [
        "from pyclustering.cluster.kmeans import kmeans_visualizer\n",
        "from pyclustering.cluster.center_initializer import kmeans_plusplus_initializer\n",
        "from pyclustering.utils.metric import distance_metric, type_metric\n",
        "from pyclustering.cluster.encoder import cluster_encoder, type_encoding\n",
        "from pyclustering.cluster.elbow import elbow\n",
        "from pyclustering.cluster.kmeans import kmeans as pKmeans\n",
        "\n",
        "metric_names = ['Manhattan','Euclidean','Chebyshev','Minkowski']\n",
        "metric_list = []\n",
        "metric_list.append(distance_metric(type_metric.MANHATTAN))\n",
        "metric_list.append(distance_metric(type_metric.EUCLIDEAN))\n",
        "metric_list.append(distance_metric(type_metric.CHEBYSHEV))\n",
        "metric_list.append(distance_metric(type_metric.MINKOWSKI, degree=4))\n",
        "\n",
        "# find initial clusters\n",
        "kmin, kmax = 1, 10\n",
        "elbow_instance = elbow(x_true, kmin, kmax)\n",
        "elbow_instance.process()\n",
        "num_of_clusters = elbow_instance.get_amount()   # amount of clusters\n",
        "# perform cluster analysis using K-Means algorithm\n",
        "initial_centers = kmeans_plusplus_initializer(x_true, num_of_clusters).initialize()\n",
        "    \n",
        "for i, dist_metric in enumerate(metric_list):\n",
        "    \n",
        "    # process kmeans to get clusters\n",
        "    kmeans_instance = pKmeans(x_true, initial_centers, metric=dist_metric)\n",
        "    kmeans_instance.process()\n",
        "    clusters = kmeans_instance.get_clusters()\n",
        "\n",
        "    # labelling\n",
        "    type_repr = kmeans_instance.get_cluster_encoding()\n",
        "    encoder = cluster_encoder(type_repr, clusters, x_true)\n",
        "    encoder.set_encoding(type_encoding.CLUSTER_INDEX_LABELING)\n",
        "    y_pred = encoder.get_clusters()\n",
        "\n",
        "    # check purity\n",
        "    purity = purity_score(y_true, y_pred)\n",
        "    print('Purity score for ', metric_names[i], ' : ', round(purity*100,2), '%') \n",
        "    "
      ],
      "execution_count": null,
      "outputs": [
        {
          "output_type": "stream",
          "text": [
            "Purity score for  Manhattan  :  88.57 %\n",
            "Purity score for  Euclidean  :  91.9 %\n",
            "Purity score for  Chebyshev  :  89.52 %\n",
            "Purity score for  Minkowski  :  90.95 %\n"
          ],
          "name": "stdout"
        }
      ]
    },
    {
      "cell_type": "markdown",
      "metadata": {
        "id": "xQAb2jXqQbvK"
      },
      "source": [
        "Explanation: The best distance metric is Euclidean because k-means itself minimises the sum of squares, which is the very definition of the Euclidean distance"
      ]
    },
    {
      "cell_type": "markdown",
      "metadata": {
        "id": "yKwhdVBMeHna"
      },
      "source": [
        "Answer: The recommended feature set for both Anova and chi-squared is ['height', 'length', 'min'],\n",
        "because for this dataset with selected features, ANOVA and chi-squared return the same purity score 0.85."
      ]
    },
    {
      "cell_type": "code",
      "metadata": {
        "colab": {
          "base_uri": "https://localhost:8080/",
          "height": 626
        },
        "id": "9lCTzujBKpL4",
        "outputId": "18ae048b-6ef6-4f56-8897-8fd8ff65aa54"
      },
      "source": [
        "# Feature Selection with Univariate Statistical Tests\n",
        "from sklearn.feature_selection import SelectKBest\n",
        "from sklearn.feature_selection import f_classif\n",
        "from sklearn.feature_selection import chi2\n",
        "from sklearn.preprocessing import MinMaxScaler\n",
        "\n",
        "def get_new_features(kbest):\n",
        "    new_features = []\n",
        "    new_features_bools = kbest.get_support()\n",
        "\n",
        "    for bool, feature in zip(new_features_bools, features):\n",
        "        if bool:\n",
        "            new_features.append(feature)\n",
        "            \n",
        "    return new_features\n",
        "        \n",
        "num_features = 3 #requirement\n",
        "\n",
        "# Anova\n",
        "kbest = SelectKBest(f_classif, k=num_features)\n",
        "x_anova = kbest.fit_transform(x_true, y_true.ravel())\n",
        "draw_elbow(x_anova) # using selected features, get the optimal number of clusters\n",
        "num_of_clusters = 3 # at plot, elbow form at 3\n",
        "y_pred = calculate_kmeans(num_of_clusters, x_anova)\n",
        "ps = purity_score(y_true, y_pred)\n",
        "print('Purity score of kmeans with feature selection using Anova is ', round(ps*100,2), '%')\n",
        "print('Original number of features:', x_true.shape[1])\n",
        "print('Reduced number of features:', x_anova.shape[1])\n",
        "\n",
        "new_features = get_new_features(kbest)\n",
        "print('New features:', new_features)\n",
        "        \n",
        "# Chi-squared\n",
        "normed_x = MinMaxScaler().fit_transform(x_true) #scale it, so there is no negative values\n",
        "kbest = SelectKBest(chi2, k=num_features)\n",
        "x_chi = kbest.fit_transform(normed_x, y_true)\n",
        "draw_elbow(x_chi) # using selected features, get the optimal number of clusters\n",
        "num_of_clusters = 3 # at plot, elbow form at 3\n",
        "y_pred = calculate_kmeans(3, x_chi)\n",
        "ps = purity_score(y_true, y_pred)\n",
        "print('Purity score of kmeans with feature selection using Chi-squared is ', round(ps*100,2), '%')\n",
        "print('Reduced number of features:', x_chi.shape[1])\n",
        "\n",
        "new_features = get_new_features(kbest)\n",
        "print('New features:', new_features)"
      ],
      "execution_count": null,
      "outputs": [
        {
          "output_type": "display_data",
          "data": {
            "image/png": "[encoded data removed]",
            "text/plain": [
              "<Figure size 432x288 with 1 Axes>"
            ]
          },
          "metadata": {
            "tags": [],
            "needs_background": "light"
          }
        },
        {
          "output_type": "stream",
          "text": [
            "Purity score of kmeans with feature selection using Anova is  84.76 %\n",
            "Original number of features: 7\n",
            "Reduced number of features: 3\n",
            "New features: ['height', 'length', 'min']\n"
          ],
          "name": "stdout"
        },
        {
          "output_type": "display_data",
          "data": {
            "image/png": "[encoded data removed]",
            "text/plain": [
              "<Figure size 432x288 with 1 Axes>"
            ]
          },
          "metadata": {
            "tags": [],
            "needs_background": "light"
          }
        },
        {
          "output_type": "stream",
          "text": [
            "Purity score of kmeans with feature selection using Chi-squared is  84.76 %\n",
            "Reduced number of features: 3\n",
            "New features: ['height', 'length', 'min']\n"
          ],
          "name": "stdout"
        }
      ]
    },
    {
      "cell_type": "markdown",
      "metadata": {
        "id": "xsG5SQti4b7E"
      },
      "source": [
        "5. Use selection criteria (ANOVA, Chi-squared) to select best three features and use them for K-Means clustering. Recommend feature sets based on the purity score"
      ]
    },
    {
      "cell_type": "markdown",
      "metadata": {
        "id": "Key1p4RKLEW9"
      },
      "source": [
        "# Part-2 (Dimensionality Reduction using PCA/SVD)\n",
        "\n",
        "1. For the dataset (clustering.csv), perform PCA.\n",
        "    - plot the captured variance with respect to increasing latent dimensionality.\n",
        "  \n",
        "  What is the minimum dimension that captures:\n",
        "    - at least 89% variance? Answer: *3 dimensions (without roundup)*\n",
        "    - at least 99% variance? Answer: *4 dimensions (without roundup)*"
      ]
    },
    {
      "cell_type": "code",
      "metadata": {
        "colab": {
          "base_uri": "https://localhost:8080/",
          "height": 329
        },
        "id": "EkJU33yYKpen",
        "outputId": "3d1c10de-6847-46d2-eabf-a8f2113cf7d5"
      },
      "source": [
        "pca = PCA(n_components=7)\n",
        "pca_data = pca.fit_transform(x_true)\n",
        "percentage_var_explained = pca.explained_variance_/np.sum(pca.explained_variance_)\n",
        "cum_var_explained = np.cumsum(percentage_var_explained)\n",
        "print('Cumulative captured variances: ', cum_var_explained)\n",
        "\n",
        "# plot the PCA \n",
        "plt.figure(1, figsize=(6,4))\n",
        "plt.clf()\n",
        "x = range(1, 8)\n",
        "plt.plot(x, cum_var_explained, linewidth=2)\n",
        "plt.axis('tight')\n",
        "plt.grid()\n",
        "plt.title('PCA plot')\n",
        "plt.xlabel('Number of components')\n",
        "plt.ylabel('Cumulative captured variance')\n",
        "plt.show()\n"
      ],
      "execution_count": null,
      "outputs": [
        {
          "output_type": "stream",
          "text": [
            "Cumulative captured variances:  [0.71874303 0.88982486 0.9866825  0.99644885 0.99912222 0.99988394\n",
            " 1.        ]\n"
          ],
          "name": "stdout"
        },
        {
          "output_type": "display_data",
          "data": {
            "image/png": "[encoded data removed]",
            "text/plain": [
              "<Figure size 432x288 with 1 Axes>"
            ]
          },
          "metadata": {
            "tags": [],
            "needs_background": "light"
          }
        }
      ]
    },
    {
      "cell_type": "markdown",
      "metadata": {
        "id": "x9JPYP0vLKzp"
      },
      "source": [
        "2. Determine the purity of clusters formed by the number of principal components which captured 89% and 99% variances respectively. Plot a line graph of the purity scores against the captured variances. Discuss your findings. __(7 marks)__"
      ]
    },
    {
      "cell_type": "markdown",
      "metadata": {
        "id": "Ro2oNnRUemiF"
      },
      "source": [
        "The line graph shows that the purity score of 69% captured variances (0.86) is lower significantly from the purity score of 74% captured variances (0.92). The score stays at 0.92 for captured variances 79% to 94% , but drops slightly for 99% captured variances to 0.919. The cause of the drop, at 99% captured variances, PCA now uses 4 dimensions, the fourth principle component could contain redundant features or having noise, making the clustering result less accurate."
      ]
    },
    {
      "cell_type": "markdown",
      "metadata": {
        "id": "Ga87nCFLemiF"
      },
      "source": [
        "Explaination: With at least 89% variances, the purity score is 0.92 (0.9238) whereas with at least 99% variances, the purity score is 0.919. "
      ]
    },
    {
      "cell_type": "code",
      "metadata": {
        "colab": {
          "base_uri": "https://localhost:8080/",
          "height": 417
        },
        "id": "8_a-xp2PKpya",
        "outputId": "c1ddd858-efd6-4d76-f571-844ddaa25e6c"
      },
      "source": [
        "# capture 89% variance\n",
        "np.random.seed(1)\n",
        "pca89 = PCA(0.89)\n",
        "x_pca89 = pca89.fit_transform(x_true)\n",
        "#draw_elbow(x_pca89)  # comment-out this line for better display in result block\n",
        "n_clusters = 3        # from the elbow, the optimal number of cluster is 3\n",
        "y_pred89 = calculate_kmeans(n_clusters, x_pca89)\n",
        "ps89 = purity_score(y_true, y_pred89)\n",
        "\n",
        "# capture 99% variance\n",
        "np.random.seed(1)\n",
        "pca99 = PCA(0.99)\n",
        "x_pca99 = pca99.fit_transform(x_true)\n",
        "#draw_elbow(x_pca99)  # comment-out this line for better display in result block\n",
        "n_clusters = 3        # from the elbow, the optimal number of cluster is 3\n",
        "y_pred99 = calculate_kmeans(n_clusters, x_pca99)\n",
        "ps99 = purity_score(y_true, y_pred99)\n",
        "\n",
        "# print results\n",
        "\n",
        "# print result from 89%\n",
        "print('\\npurity score for 89% is ', ps89)\n",
        "print('number of features for 89%:', x_pca89.shape[1])\n",
        "\n",
        "df_pca = pd.DataFrame(pca89.components_,columns=features,index = ['PC-1','PC-2','PC-3'])\n",
        "print('\\nPCA components correlations in the original data features\\n')\n",
        "print(df_pca)\n",
        "\n",
        "# print result from 99%\n",
        "print('\\npurity score for 99% is ', ps99)\n",
        "print('number of features for 99%:', x_pca99.shape[1])\n",
        "\n",
        "df_pca = pd.DataFrame(pca99.components_,columns=features,index = ['PC-1','PC-2','PC-3','PC-4'])\n",
        "print('\\nPCA components correlations in the original data features\\n')\n",
        "print(df_pca)\n"
      ],
      "execution_count": null,
      "outputs": [
        {
          "output_type": "stream",
          "text": [
            "\n",
            "purity score for 89% is  0.9238095238095239\n",
            "number of features for 89%: 3\n",
            "\n",
            "PCA components correlations in the original data features\n",
            "\n",
            "        height    length     width       std       min       max  kurtosis\n",
            "PC-1  0.444474  0.441571  0.277017  0.423563  0.432819 -0.118692  0.387161\n",
            "PC-2 -0.026564 -0.084003  0.529151 -0.205975  0.116690 -0.716882 -0.377193\n",
            "PC-3  0.025871 -0.059839  0.629692 -0.211880  0.216483  0.679506 -0.213897\n",
            "\n",
            "purity score for 99% is  0.919047619047619\n",
            "number of features for 99%: 4\n",
            "\n",
            "PCA components correlations in the original data features\n",
            "\n",
            "        height    length     width       std       min       max  kurtosis\n",
            "PC-1  0.444474  0.441571  0.277017  0.423563  0.432819 -0.118692  0.387161\n",
            "PC-2 -0.026564 -0.084003  0.529151 -0.205975  0.116690 -0.716882 -0.377193\n",
            "PC-3  0.025871 -0.059839  0.629692 -0.211880  0.216483  0.679506 -0.213897\n",
            "PC-4  0.193640  0.295457 -0.332816  0.263407  0.199630  0.092465 -0.804150\n"
          ],
          "name": "stdout"
        }
      ]
    },
    {
      "cell_type": "code",
      "metadata": {
        "id": "qkVxPnkWemiG",
        "outputId": "697a5b90-1953-4242-8865-f9428468ba5a"
      },
      "source": [
        "# plot a line chart number of captured variance\n",
        "variances = []\n",
        "y_purities = []\n",
        "n_clusters = 3 # as calculated previously\n",
        "for x in (0.69, 0.74, 0.79, 0.84, 0.89, 0.94, 0.99):\n",
        "    x_pca = PCA(x).fit_transform(x_true)\n",
        "    y_pred = calculate_kmeans(n_clusters, x_pca) \n",
        "    ps = purity_score(y_true, y_pred)\n",
        "    variances.append(x)\n",
        "    y_purities.append(round(ps,4))\n",
        "\n",
        "plt.figure(figsize=(10,5))\n",
        "plt.plot(variances, y_purities, linewidth=2)\n",
        "plt.grid()\n",
        "plt.xticks(variances)\n",
        "plt.title('Captured variances vs Purity scored')\n",
        "plt.xlabel('Captured variances')\n",
        "plt.ylabel('Purity score')\n",
        "plt.show()\n",
        "\n",
        "result = zip(variances, y_purities)\n",
        "print(tuple(result))"
      ],
      "execution_count": null,
      "outputs": [
        {
          "output_type": "display_data",
          "data": {
            "image/png": "[encoded data removed]",
            "text/plain": [
              "<Figure size 720x360 with 1 Axes>"
            ]
          },
          "metadata": {
            "tags": [],
            "needs_background": "light"
          }
        },
        {
          "output_type": "stream",
          "text": [
            "((0.69, 0.8571), (0.74, 0.9238), (0.79, 0.9238), (0.84, 0.9238), (0.89, 0.9238), (0.94, 0.9238), (0.99, 0.919))\n"
          ],
          "name": "stdout"
        }
      ]
    },
    {
      "cell_type": "markdown",
      "metadata": {
        "id": "8RmhzV_MK-ia"
      },
      "source": [
        "3. Let's assume you have two datasets one is linear and another is curved structural data. Check whether we can apply PCA on these datasets. "
      ]
    },
    {
      "cell_type": "markdown",
      "metadata": {
        "id": "WomQz-KfD2LB"
      },
      "source": [
        "Explaination: We definitely can apply PCA on linear data because PCA performs a linear rotation. For curved structural data, we still can apply PCA but the result will be meaningless. However, we can apply Kernel PCA, which is the extension of PCA. Using the kernel trick, the data is temporarily projected to a higher-dimensional space then compress datasets consisting of nonlinear features onto a lower-dimensional space where the classes became linearly separable\n",
        "\n",
        "References: \n",
        "https://medium.com/@ODSC/implementing-a-kernel-principal-component-analysis-in-python-495f04a7f85f\n",
        "\n",
        "https://en.wikipedia.org/wiki/Kernel_principal_component_analysis#:~:text=In%20the%20field%20of%20multivariate,a%20reproducing%20kernel%20Hilbert%20space.\n"
      ]
    }
  ]
}