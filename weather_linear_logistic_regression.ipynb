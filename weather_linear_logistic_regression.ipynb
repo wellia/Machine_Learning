{
  "nbformat": 4,
  "nbformat_minor": 0,
  "metadata": {
    "colab": {
      "name": "weather_linear_logistic_regression.ipynb",
      "provenance": [],
      "collapsed_sections": [],
      "include_colab_link": true
    },
    "kernelspec": {
      "display_name": "Python 3",
      "language": "python",
      "name": "python3"
    },
    "language_info": {
      "codemirror_mode": {
        "name": "ipython",
        "version": 3
      },
      "file_extension": ".py",
      "mimetype": "text/x-python",
      "name": "python",
      "nbconvert_exporter": "python",
      "pygments_lexer": "ipython3",
      "version": "3.7.4"
    }
  },
  "cells": [
    {
      "cell_type": "markdown",
      "metadata": {
        "id": "view-in-github",
        "colab_type": "text"
      },
      "source": [
        "<a href=\"https://colab.research.google.com/github/wellia/Machine_Learning/blob/main/weather_linear_logistic_regression.ipynb\" target=\"_parent\"><img src=\"https://colab.research.google.com/assets/colab-badge.svg\" alt=\"Open In Colab\"/></a>"
      ]
    },
    {
      "cell_type": "markdown",
      "metadata": {
        "id": "8Bb-CS27NWdS"
      },
      "source": [
        "## Background\n",
        "\n",
        "Environment and its changes are the most complex system. It is unarguably accepted that the temperature changes are greately affected by various environmental factors. Many of them are positively related to the  change, whereas, some have negative correlation. In this assesment task, you will analyse relationship among various environmental factors, which affect temperature.\n",
        "\n",
        "##The dataset\n",
        "\n",
        "**Dataset file name:** weather_dataset.csv\n",
        "\n",
        "**Dataset description:** The dataset contains total 10 features. Each row contains an hourly record of weather status and the data was recorded for the time period between 2006 and 2016.\n",
        "\n",
        "**Features and labels:** \n",
        "\n",
        "1.   recording_date_time (date_time): Date and time the data was recorded\n",
        "2.   precip_type (string): Precipitation status, blank (no value) indicates unknown status\n",
        "3.   temperature (float): Temperature in degree Celsius\n",
        "4.   apparent_temperature (float): Feel like temperature in degree Celsius\n",
        "5.   humidity (float): Percentage amount of water vapour in the air \n",
        "6.   wind_speed (float): Speed of the wind in km per hour\n",
        "7.   wind_bearing (int): The direction of wind in degree in geo-polar co-ordinate. Value 0 means perfect east, 90 means perfect north, 180 and 270 means west and south respectively.\n",
        "8.   visibility (float): Distance in km that is visible in naked eyes.\n",
        "9.   cloud_cover (float): The fraction of the sky obscured by clouds. The value is 1 if the observed area is fully cloudy, 0 if no clouds and other fractional value indicates the portion of the area covered by clouds.\n",
        "10.   pressure (float): Air pressure or atmospheric in milibars\n"
      ]
    },
    {
      "cell_type": "code",
      "metadata": {
        "id": "MNM69SYZy9N4",
        "colab": {
          "base_uri": "https://localhost:8080/",
          "height": 120
        },
        "outputId": "6d7600b7-ddf0-47c8-bc82-a5d2c4259134"
      },
      "source": [
        "!pip install imblearn\n",
        "\n",
        "import numpy as np\n",
        "import matplotlib.pyplot as plt\n",
        "import pandas as pd\n",
        "import seaborn as sns\n",
        "import random\n",
        "from sklearn import metrics\n",
        "from sklearn.metrics import accuracy_score, precision_score, recall_score\n",
        "from sklearn.model_selection import train_test_split, cross_val_score, GridSearchCV, KFold\n",
        "from sklearn.linear_model import LinearRegression, LogisticRegression, Ridge, Lasso, SGDRegressor\n",
        "from sklearn.preprocessing import StandardScaler, binarize, PolynomialFeatures\n",
        "from sklearn.feature_selection import RFE\n",
        "from imblearn.over_sampling import SMOTE"
      ],
      "execution_count": null,
      "outputs": [
        {
          "output_type": "stream",
          "text": [
            "Requirement already satisfied: imblearn in /usr/local/lib/python3.6/dist-packages (0.0)\n",
            "Requirement already satisfied: imbalanced-learn in /usr/local/lib/python3.6/dist-packages (from imblearn) (0.4.3)\n",
            "Requirement already satisfied: numpy>=1.8.2 in /usr/local/lib/python3.6/dist-packages (from imbalanced-learn->imblearn) (1.18.5)\n",
            "Requirement already satisfied: scipy>=0.13.3 in /usr/local/lib/python3.6/dist-packages (from imbalanced-learn->imblearn) (1.4.1)\n",
            "Requirement already satisfied: scikit-learn>=0.20 in /usr/local/lib/python3.6/dist-packages (from imbalanced-learn->imblearn) (0.22.2.post1)\n",
            "Requirement already satisfied: joblib>=0.11 in /usr/local/lib/python3.6/dist-packages (from scikit-learn>=0.20->imbalanced-learn->imblearn) (0.16.0)\n"
          ],
          "name": "stdout"
        }
      ]
    },
    {
      "cell_type": "markdown",
      "metadata": {
        "id": "gcAfajjdH0zY"
      },
      "source": [
        "*Note*: I removed recording_date_time as per the instructions. I also removed cloud_cover, which contained only 0 and had no effect on the model. I did not remove humidity and pressure even though they potentially have outliers.\n"
      ]
    },
    {
      "cell_type": "code",
      "metadata": {
        "id": "KugpF4o5OKHD",
        "colab": {
          "base_uri": "https://localhost:8080/",
          "height": 778
        },
        "outputId": "44b64e58-53ac-47d7-f280-3be8a9c08714"
      },
      "source": [
        "# Part 1.1\n",
        "\n",
        "# load data\n",
        "df = pd.read_csv(\"weather_dataset.csv\")\n",
        "\n",
        "# convert categorical variable 0 rain, 1 snow\n",
        "df['recording_date_time'] = pd.to_datetime(df['recording_date_time'], utc=True)\n",
        "df['precip_type_dummy'] = df['precip_type'].astype('category').cat.codes\n",
        "\n",
        "# check null data\n",
        "print('Any null? ', df.isnull().values.any()) # print False, no null data\n",
        "\n",
        "#  categorical variables\n",
        "print('\\nPrecip types:', df.precip_type.unique()) # print rain, show\n",
        "print('\\nCloud cover:', df.cloud_cover.unique()) # print 0\n",
        "\n",
        "# From the plots, there are 2 concerns humidity and pressure, they have imposibble value 0\n",
        "\n",
        "# check humidity data\n",
        "missing_humidity = df[df.humidity==0]\n",
        "print('missing humidity:', missing_humidity.shape[0]) # there are 22 rows with 0 value, \n",
        "\n",
        "# check pressure data\n",
        "missing_pressure = df[df.pressure==0]\n",
        "print('missing pressure:', missing_pressure.shape[0]) # there are 1288 rows with 0 value, \n",
        "\n",
        "# The cloud cover only contains 0, it is not useful to build a model\n",
        "# also drop precip_type, we already have precip_type_dummy\n",
        "df = df.drop(['cloud_cover', 'precip_type'], axis=1)\n",
        "\n",
        "# split data - leave 2015 and 2016 data for testing\n",
        "df['recording_date_time'].dt.year.unique()\n",
        "\n",
        "df_test = df[df['recording_date_time'].dt.year.isin([2015, 2016])]\n",
        "df_train = df[df['recording_date_time'].dt.year < 2015]\n",
        "\n",
        "# exclude date column\n",
        "df_test = df_test.drop(['recording_date_time'], axis=1)\n",
        "df_train = df_train.drop(['recording_date_time'], axis=1)\n",
        "\n",
        "\n",
        "# display shapes\n",
        "print('train data shape:' , df_train.shape) #78910 rows, 8 columns\n",
        "print('test data shape:', df_test.shape) #17543 rows, 8 columns\n",
        "if df.shape[0] == df_train.shape[0] + df_test.shape[0]:\n",
        "  print('Split is ok')\n",
        "else:\n",
        "  print('Split is wrong')\n",
        "  \n",
        "# visualisation of data\n",
        "fig = plt.figure(figsize=(15,10))\n",
        "\n",
        "ax = fig.add_subplot(3, 3, 1)\n",
        "sns.boxplot(x=df['temperature'],ax=ax)\n",
        "ax = fig.add_subplot(3, 3, 2)\n",
        "sns.boxplot(x=df['apparent_temperature'],ax=ax)\n",
        "ax = fig.add_subplot(3, 3, 3)\n",
        "sns.boxplot(x=df['humidity'],ax=ax)\n",
        "ax = fig.add_subplot(3, 3, 4)\n",
        "sns.boxplot(x=df['wind_speed'],ax=ax)\n",
        "ax = fig.add_subplot(3, 3, 5)\n",
        "sns.boxplot(x=df['wind_bearing'],ax=ax)\n",
        "ax = fig.add_subplot(3, 3, 6)\n",
        "sns.boxplot(x=df['visibility'],ax=ax)\n",
        "ax = fig.add_subplot(3, 3, 7)\n",
        "sns.boxplot(x=df['pressure'],ax=ax)\n",
        "plt.show()"
      ],
      "execution_count": null,
      "outputs": [
        {
          "output_type": "stream",
          "text": [
            "Any null?  False\n",
            "\n",
            "Precip types: ['rain' 'snow']\n",
            "\n",
            "Cloud cover: [0]\n",
            "missing humidity: 22\n",
            "missing pressure: 1288\n",
            "train data shape: (78910, 8)\n",
            "test data shape: (17543, 8)\n",
            "Split is ok\n"
          ],
          "name": "stdout"
        },
        {
          "output_type": "display_data",
          "data": {
            "image/png": "[encoded data removed]",
            "text/plain": [
              "<Figure size 1080x720 with 7 Axes>"
            ]
          },
          "metadata": {
            "tags": [],
            "needs_background": "light"
          }
        }
      ]
    },
    {
      "cell_type": "markdown",
      "metadata": {
        "id": "tir1JyxlOVQf"
      },
      "source": [
        "2.  Consider the 'temperature' as the target. List the insignificant features for predicting temperature, if any. Explain your findings."
      ]
    },
    {
      "cell_type": "markdown",
      "metadata": {
        "id": "dyoKwb7Fy9OI"
      },
      "source": [
        "*Note*: The linear relationship between a predictor and a target is positive if the value is greater than zero. The closer the value is to one, the stronger the relationship. The graph supports the finding. If the correlation is insignificant, these predictors (wind_bearing and wind_speed) will have less influence in predicting the temperature. The results are:<br/>\n",
        "<li>apparent_temperature has strong positive linear relationship</li>\n",
        "<li>humidity and precip_type have strong negative LR</li>\n",
        "<li>visibility and pressure have moderate positive LR</li>\n",
        "<li>pressure has moderate negative LR</li>\n",
        "<br/>Insignificant features:\n",
        "<li>wind_bearing and wind_speed have low positive LR</li>\n"
      ]
    },
    {
      "cell_type": "code",
      "metadata": {
        "id": "hMLc-93uOMhY",
        "colab": {
          "base_uri": "https://localhost:8080/",
          "height": 172
        },
        "outputId": "1ac2cfe7-34fe-4ac5-cd7f-87bbef66a81f"
      },
      "source": [
        "# Part 1.2 - code block 1\n",
        "\n",
        "# calc covariance between predictors and target\n",
        "target = 'temperature'\n",
        "feature_cols = ['apparent_temperature', 'humidity', 'precip_type_dummy', 'visibility',  \n",
        "                'pressure', 'wind_bearing', 'wind_speed']\n",
        "\n",
        "corr = df_train.corrwith(df_train[target]).sort_values(ascending=False)\n",
        "print(corr) "
      ],
      "execution_count": null,
      "outputs": [
        {
          "output_type": "stream",
          "text": [
            "temperature             1.000000\n",
            "apparent_temperature    0.992413\n",
            "visibility              0.371181\n",
            "wind_bearing            0.029754\n",
            "wind_speed              0.010981\n",
            "pressure               -0.010212\n",
            "precip_type_dummy      -0.578431\n",
            "humidity               -0.631624\n",
            "dtype: float64\n"
          ],
          "name": "stdout"
        }
      ]
    },
    {
      "cell_type": "code",
      "metadata": {
        "id": "bZLVqy9lH0zi",
        "colab": {
          "base_uri": "https://localhost:8080/",
          "height": 1000
        },
        "outputId": "84b622ed-f329-4861-e0b4-805e2fe75bfe"
      },
      "source": [
        "# Part 1.2 - code block 2\n",
        "\n",
        "# vizulisation to show linear relationship\n",
        "\n",
        "def scatter_plot(feature, target):\n",
        "    plt.figure(figsize=(8,4))\n",
        "    plt.scatter(\n",
        "        df[feature],\n",
        "        df[target])\n",
        "    plt.xlabel(feature)\n",
        "    plt.ylabel('temperature')\n",
        "    plt.show()\n",
        "    \n",
        "for feature in feature_cols:\n",
        "   scatter_plot(feature, target)"
      ],
      "execution_count": null,
      "outputs": [
        {
          "output_type": "display_data",
          "data": {
            "image/png": "[encoded data removed]",
            "text/plain": [
              "<Figure size 576x288 with 1 Axes>"
            ]
          },
          "metadata": {
            "tags": [],
            "needs_background": "light"
          }
        },
        {
          "output_type": "display_data",
          "data": {
            "image/png": "[encoded data removed]",
            "text/plain": [
              "<Figure size 576x288 with 1 Axes>"
            ]
          },
          "metadata": {
            "tags": [],
            "needs_background": "light"
          }
        },
        {
          "output_type": "display_data",
          "data": {
            "image/png": "[encoded data removed]",
            "text/plain": [
              "<Figure size 576x288 with 1 Axes>"
            ]
          },
          "metadata": {
            "tags": [],
            "needs_background": "light"
          }
        },
        {
          "output_type": "display_data",
          "data": {
            "image/png": "[encoded data removed]",
            "text/plain": [
              "<Figure size 576x288 with 1 Axes>"
            ]
          },
          "metadata": {
            "tags": [],
            "needs_background": "light"
          }
        },
        {
          "output_type": "display_data",
          "data": {
            "image/png": "[encoded data removed]",
            "text/plain": [
              "<Figure size 576x288 with 1 Axes>"
            ]
          },
          "metadata": {
            "tags": [],
            "needs_background": "light"
          }
        },
        {
          "output_type": "display_data",
          "data": {
            "image/png": "[encoded data removed]",
            "text/plain": [
              "<Figure size 576x288 with 1 Axes>"
            ]
          },
          "metadata": {
            "tags": [],
            "needs_background": "light"
          }
        },
        {
          "output_type": "display_data",
          "data": {
            "image/png": "[encoded data removed]",
            "text/plain": [
              "<Figure size 576x288 with 1 Axes>"
            ]
          },
          "metadata": {
            "tags": [],
            "needs_background": "light"
          }
        }
      ]
    },
    {
      "cell_type": "markdown",
      "metadata": {
        "id": "TkUeSXbIODoE"
      },
      "source": [
        "##**Part 1: Linear Regression:**\n",
        "\n",
        "\n",
        "1.   Load the dataset and split the data for training and testing - consider the data of last 2 years (2015 and 2016) for testing. Now exclude recording_date_time column from both training and test sets. Display the shape of training and test sets."
      ]
    },
    {
      "cell_type": "markdown",
      "metadata": {
        "id": "_mC_pm60V4VB"
      },
      "source": [
        "3.  Now create a linear model considering the 'temperature' as the target variable and other columns as features (you can optionally remove non-contributing features). Show the test performance (as Mean Absolute Error, MAE) of the model.\n",
        "<br/><br/>*Note*: Initially I calculated the MAE based on features that have strong and moderate relatioships with temperature. I then added insignificant features. The result is, the model performs better with all features. Therefore, I include all the features when building the model (code block 1)\n",
        "<br/><br/>I use cross validation kfold to build a model (code block 2). The MAE is 0.72\n",
        "<br/><br/>The model is y = 11.88 + (9.42 * apparent_temperature) - (0.28 * humidity) + (0.02 * precip_type_dummy) + (0.03 * visibility) - (0.02 * pressure) + (0.58 * wind_speed) - (0.04 * wind_bearing))\n",
        "\n",
        "\n"
      ]
    },
    {
      "cell_type": "code",
      "metadata": {
        "id": "f78CeRJN6nyf",
        "colab": {
          "base_uri": "https://localhost:8080/",
          "height": 172
        },
        "outputId": "9d56f694-574f-499c-815b-ca0cf6b85475"
      },
      "source": [
        "#Part 1.3 - code block 1 - linear model, test MAE for number of features \n",
        "\n",
        "def calculate_mae(features):\n",
        "  print('\\nlast feature:', features[len(features)-1])\n",
        "  # Split the data in Part 1.1. test data are in year 2015 and 2016\n",
        "  x_train = df_train[features]\n",
        "  y_train = df_train[target]\n",
        "\n",
        "  # normalize data\n",
        "  x_train = scaler.fit_transform(x_train)\n",
        "\n",
        "  # fit the model\n",
        "  lr = LinearRegression()\n",
        "  model = lr.fit(x_train,y_train)\n",
        "  print('MAE on train data:', metrics.mean_absolute_error(y_train, model.predict(x_train)))\n",
        "    \n",
        "# features after selection\n",
        "new_feature_cols = ['apparent_temperature', 'humidity', 'precip_type_dummy', 'visibility', 'pressure']\n",
        "insignificant_feature_cols = ['wind_speed', 'wind_bearing']\n",
        "scaler = StandardScaler()\n",
        "\n",
        "calculate_mae(new_feature_cols)\n",
        "\n",
        "for feature in insignificant_feature_cols:\n",
        "    new_feature_cols = np.append(new_feature_cols, feature)\n",
        "    calculate_mae(new_feature_cols)"
      ],
      "execution_count": null,
      "outputs": [
        {
          "output_type": "stream",
          "text": [
            "\n",
            "last feature: pressure\n",
            "MAE on train data: 0.8405426792586865\n",
            "\n",
            "last feature: wind_speed\n",
            "MAE on train data: 0.7486079493268681\n",
            "\n",
            "last feature: wind_bearing\n",
            "MAE on train data: 0.7478217624772675\n"
          ],
          "name": "stdout"
        }
      ]
    },
    {
      "cell_type": "code",
      "metadata": {
        "id": "kHzUME8Ao-Hz",
        "colab": {
          "base_uri": "https://localhost:8080/",
          "height": 209
        },
        "outputId": "cd2963c7-775b-4772-f9e2-211f671aa64b"
      },
      "source": [
        "# Part 1.3 - code block 2 - use cross validation to build a model\n",
        "\n",
        "# all features\n",
        "feature_cols = ['apparent_temperature', 'humidity', 'precip_type_dummy', 'visibility', 'pressure', 'wind_speed', 'wind_bearing']\n",
        "target = 'temperature'\n",
        "\n",
        "x_train = df_train[feature_cols]\n",
        "y_train = df_train[target]\n",
        "x_test = df_test[feature_cols]\n",
        "y_test = df_test[target]\n",
        "\n",
        "# normalize data\n",
        "scaler = StandardScaler()\n",
        "x_train_scale = scaler.fit_transform(x_train)\n",
        "x_test_scale = scaler.transform(x_test)\n",
        "\n",
        "# creating a KFold object with 5 splits \n",
        "folds = KFold(n_splits = 5, shuffle = True, random_state = 100)\n",
        "\n",
        "# specify range of hyperparameters\n",
        "hyper_params = [{'n_features_to_select': list(range(2, 40))}]\n",
        "\n",
        "# specify model\n",
        "lm = LinearRegression()\n",
        "lm.fit(x_train_scale, y_train)\n",
        "rfe = RFE(lm)             \n",
        "\n",
        "# set up GridSearchCV()\n",
        "model_cv = GridSearchCV(estimator = rfe, \n",
        "                        param_grid = hyper_params, \n",
        "                        scoring= 'neg_mean_absolute_error', \n",
        "                        cv = folds, \n",
        "                        verbose = 1,\n",
        "                        return_train_score=True)      \n",
        "\n",
        "# fit the model\n",
        "model = model_cv.fit(x_train_scale, y_train) \n",
        "print('MAE on training data:', metrics.mean_absolute_error(y_train, model.predict(x_train_scale))) \n",
        "print('MAE on test data:', metrics.mean_absolute_error(y_test, model.predict(x_test_scale))) \n",
        "print('R-Square on test data:', metrics.r2_score(y_test, model.predict(x_test_scale)))\n",
        "print('\\nIntercept:' , lm.intercept_)\n",
        "\n",
        "print('Coefficients:', tuple(zip(feature_cols, lm.coef_)))\n",
        "\n",
        "features=list(x_train.columns[model_cv.best_estimator_.support_])\n",
        "print('Features used:' , features)"
      ],
      "execution_count": null,
      "outputs": [
        {
          "output_type": "stream",
          "text": [
            "Fitting 5 folds for each of 38 candidates, totalling 190 fits\n"
          ],
          "name": "stdout"
        },
        {
          "output_type": "stream",
          "text": [
            "[Parallel(n_jobs=1)]: Using backend SequentialBackend with 1 concurrent workers.\n"
          ],
          "name": "stderr"
        },
        {
          "output_type": "stream",
          "text": [
            "MAE on training data: 0.7478217624772675\n",
            "MAE on test data: 0.7195984274620743\n",
            "R-Square on test data: 0.9905007521466286\n",
            "\n",
            "Intercept: 11.88448853123812\n",
            "Coefficients: (('apparent_temperature', 9.416712306695599), ('humidity', -0.2813334035677037), ('precip_type_dummy', 0.014803289772776701), ('visibility', 0.031284989571188526), ('pressure', -0.020663523983878607), ('wind_speed', 0.5821546552327657), ('wind_bearing', -0.042434636860877256))\n",
            "Features used: ['apparent_temperature', 'humidity', 'precip_type_dummy', 'visibility', 'pressure', 'wind_speed', 'wind_bearing']\n"
          ],
          "name": "stdout"
        },
        {
          "output_type": "stream",
          "text": [
            "[Parallel(n_jobs=1)]: Done 190 out of 190 | elapsed:    5.6s finished\n"
          ],
          "name": "stderr"
        }
      ]
    },
    {
      "cell_type": "markdown",
      "metadata": {
        "id": "v428CdiaOaad"
      },
      "source": [
        "4.   Find the feature which shows maximum correlation with \"pressure\". Create a linear regression model to predict temperature using these two features ('pressure' and the one which shows maximum correlation). Compare the performance of this simplified model with the model developed in the previous question (Q-3). Explain the performance variation, if any."
      ]
    },
    {
      "cell_type": "markdown",
      "metadata": {
        "id": "FYikNlcPH0zt"
      },
      "source": [
        "*Note*: The feature with maximum correlation with \"pressure\" is visibility. Compared to the model developed earlier (which has an MAE of 0.72), this simplified model (with an MAE of 6.5) is worse. With the previous model, 99% of variances can be explained by the model's features. By contrast, with this simplified model, only 23.5% of variances can be explained by the model's features. This is because the previous model includes more features with strong correlation with temperature, whereas two features used when building this model (Pressure and precip_type) only have moderate correlation with temperature. "
      ]
    },
    {
      "cell_type": "code",
      "metadata": {
        "id": "aKsPiuGCOM5F",
        "colab": {
          "base_uri": "https://localhost:8080/",
          "height": 258
        },
        "outputId": "76cf7c70-6091-43a4-8984-24bbe304c73a"
      },
      "source": [
        "# Part 1.4 Find correlation with pressure\n",
        "\n",
        "# all features\n",
        "feature_pressure_cols = ['pressure','visibility']\n",
        "target = 'temperature'\n",
        "\n",
        "corr_press = df.corrwith(df['pressure']).sort_values(ascending=False)\n",
        "print(corr_press) #visibility has the highest correlation with pressure with 0.06\n",
        "\n",
        "# create linear model using pressure and visibility\n",
        "\n",
        "x_train = df_train[feature_pressure_cols]\n",
        "y_train = df_train[target]\n",
        "x_test = df_test[feature_pressure_cols]\n",
        "y_test = df_test[target]\n",
        "\n",
        "# normalize data\n",
        "scaler = StandardScaler()\n",
        "x_train = scaler.fit_transform(x_train)\n",
        "x_test = scaler.transform(x_test)\n",
        "\n",
        "# fit the model\n",
        "lr = LinearRegression()\n",
        "model = lr.fit(x_train,y_train)\n",
        "\n",
        "# # find model accuracy\n",
        "print('\\nModel on training data:')\n",
        "print('MAE on training data:', metrics.mean_absolute_error(y_train, model.predict(x_train)))\n",
        "print('MAE on test data:', metrics.mean_absolute_error(y_test, model.predict(x_test)))\n",
        "print('R-Square on test data:', metrics.r2_score(y_test, model.predict(x_test)))"
      ],
      "execution_count": null,
      "outputs": [
        {
          "output_type": "stream",
          "text": [
            "pressure                1.000000\n",
            "visibility              0.059826\n",
            "precip_type_dummy       0.011103\n",
            "humidity                0.005454\n",
            "apparent_temperature   -0.000218\n",
            "temperature            -0.005447\n",
            "wind_bearing           -0.011651\n",
            "wind_speed             -0.049260\n",
            "dtype: float64\n",
            "\n",
            "Model on training data:\n",
            "MAE on training data: 7.233383801635007\n",
            "MAE on test data: 6.497942083877327\n",
            "R-Square on test data: 0.2350543695613977\n"
          ],
          "name": "stdout"
        }
      ]
    },
    {
      "cell_type": "markdown",
      "metadata": {
        "id": "0-jv9d7oOtHe"
      },
      "source": [
        "5. Apportion the complete dataset into training and test sets, with an 40-60 split.\n",
        "\n",
        "  (a)  Train a linear regression model without considering overfitting scenario and report the test performance. \n",
        "  <br/>*Note*: When run against the original dataset, the model is not overfitted (MAE on train data: 0.7422, MAE on test data: 0.7411). To make it overfitted, I added a noise feature and make features polynomial. The higher the degree in polynomial, the longer is the training time. \n",
        "\n",
        "  (b) Create an optimal regularised linear regression model and report the test performance.\n",
        "  <br/>*Note*: After regularisation with Ridge and Lasso, the MAE results are well balanced between train and test data. Regularisation with Lasso performed better\n",
        "<br/>LR (MAE train: 0.298842, MAE test: 0.321752)\n",
        "<br/>Lasso (MAE train: 0.326707, MAE test: 0.329300)\n",
        "<br/>Ridge (MAE train: 0.313823, MAE test: 0.322694)\n",
        "\n",
        "  (c) Explain the reason behind the performance variation, if any.\n",
        "  <br/>*Note*: Regularisation is used to solve overfitting problem, it penalises the complexity. The best learning rate is selected using cross validation. Regularisation does not improve accuracy, but solves the overfitting problem. Additional regularisation in polynomial features can be used for better performance. "
      ]
    },
    {
      "cell_type": "code",
      "metadata": {
        "id": "jNk_egyXONc2",
        "colab": {
          "base_uri": "https://localhost:8080/",
          "height": 51
        },
        "outputId": "f33a9ba0-dd8d-415a-f4ce-d2fef2052099"
      },
      "source": [
        "# Part 1.5.a - Train a linear regression model\n",
        "\n",
        "make_overfit = True # change to False to run linear regression on original data, the result will not overfit\n",
        "\n",
        "df_5 = df.drop(['recording_date_time'], axis=1)\n",
        "\n",
        "if make_overfit:\n",
        "  df_5['noise'] = np.exp(df['apparent_temperature'])\n",
        "\n",
        "# split random\n",
        "y = df_5[target]\n",
        "x = df_5.drop([target], axis=1)\n",
        "x_train, x_test, y_train, y_test = train_test_split(x, y, test_size=0.6, random_state=1)\n",
        "\n",
        "if make_overfit:\n",
        "  n_degree = 3\n",
        "  polynomial_features = PolynomialFeatures(degree = n_degree)\n",
        "  x_train = polynomial_features.fit_transform(x_train)\n",
        "  x_test = polynomial_features.fit_transform(x_test)\n",
        "\n",
        "# normalize data\n",
        "scaler = StandardScaler()\n",
        "x_train = scaler.fit_transform(x_train)\n",
        "x_test = scaler.transform(x_test)\n",
        "\n",
        "# fit the model\n",
        "lr = LinearRegression()\n",
        "model = lr.fit(x_train,y_train)\n",
        "y_pred = model.predict(x_train)\n",
        "print('MAE on train data:', metrics.mean_absolute_error(y_train, y_pred))  \n",
        "\n",
        "y_pred = model.predict(x_test)\n",
        "print('MAE on test data:', metrics.mean_absolute_error(y_test, y_pred))  "
      ],
      "execution_count": null,
      "outputs": [
        {
          "output_type": "stream",
          "text": [
            "MAE on train data: 0.29884202469445037\n",
            "MAE on test data: 0.32175217629296754\n"
          ],
          "name": "stdout"
        }
      ]
    },
    {
      "cell_type": "code",
      "metadata": {
        "id": "-x5_BNdgpOfA",
        "colab": {
          "base_uri": "https://localhost:8080/",
          "height": 172
        },
        "outputId": "c54cba59-d9b1-4137-91a6-fed8fbfe2679"
      },
      "source": [
        "# Part 1.5.b\n",
        "# compare MAE for ordinary linear regression and regularization with lasso and ridge\n",
        "\n",
        "# WARNING: The training time can be quite long\n",
        "\n",
        "# I set iterations number low to reduce training time\n",
        "def compare_result(models, data, iterations = 2):\n",
        "    results = {}\n",
        "    for i in models:\n",
        "        mae_train = []\n",
        "        mae_test = []\n",
        "        for j in range(iterations):\n",
        "            model = models[i].fit(x_train, y_train)\n",
        "            mae_test.append( metrics.mean_absolute_error(y_test, model.predict(x_test)))\n",
        "            mae_train.append(metrics.mean_absolute_error(y_train, model.predict(x_train)))\n",
        "        results[i] = [np.mean(mae_train), np.mean(mae_test)]\n",
        "    return pd.DataFrame(results)\n",
        "\n",
        "lasso_params = {'alpha':[0.001, 0.005, 0.01, 0.02, 0.05, 0.9]}\n",
        "ridge_params = {'alpha':[0.001, 0.1, 0.5, 2, 10, 50]}\n",
        "\n",
        "lasso_grid = GridSearchCV(Lasso(max_iter=2000), param_grid=lasso_params).fit(x_train, y_train)\n",
        "ridge_grid = GridSearchCV(Ridge(max_iter=100), param_grid=ridge_params).fit(x_train, y_train)\n",
        "\n",
        "print('Best params lasso:', lasso_grid.best_estimator_)\n",
        "print('Best params ridge:', ridge_grid.best_estimator_)\n",
        "\n",
        "models = {'LR': LinearRegression(),\n",
        "           'Lasso': lasso_grid.best_estimator_,\n",
        "           'Ridge': ridge_grid.best_estimator_}\n",
        "      \n",
        "print('0: MAE on train data, 1: MAE on test data')\n",
        "results = compare_result(models, df)\n",
        "print(results)"
      ],
      "execution_count": null,
      "outputs": [
        {
          "output_type": "stream",
          "text": [
            "Best params lasso: Lasso(alpha=0.001, copy_X=True, fit_intercept=True, max_iter=2000,\n",
            "      normalize=False, positive=False, precompute=False, random_state=None,\n",
            "      selection='cyclic', tol=0.0001, warm_start=False)\n",
            "Best params ridge: Ridge(alpha=2, copy_X=True, fit_intercept=True, max_iter=100, normalize=False,\n",
            "      random_state=None, solver='auto', tol=0.001)\n",
            "0: MAE on train data, 1: MAE on test data\n",
            "         LR     Lasso     Ridge\n",
            "0  0.298842  0.326707  0.313823\n",
            "1  0.321752  0.329300  0.322694\n"
          ],
          "name": "stdout"
        }
      ]
    },
    {
      "cell_type": "markdown",
      "metadata": {
        "id": "CtcCZwIMOxwi"
      },
      "source": [
        "##**Part 2: Logistic Regression:** \n",
        "\n",
        "1.  Can the same target (temperature, mentioned in Part-1) be used for logistic regression? Why?"
      ]
    },
    {
      "cell_type": "markdown",
      "metadata": {
        "id": "A-G3t9Bicvrz"
      },
      "source": [
        "*Note*: No, it cannot. logistic regression uses the logistic sigmoid function to return a probability value, which is then mapped to a class. The data type for Temperature is continuous so it cannot use logistic regression. Logistic regression is a classification algorithm."
      ]
    },
    {
      "cell_type": "markdown",
      "metadata": {
        "id": "7b9w86-ocnlW"
      },
      "source": [
        ""
      ]
    },
    {
      "cell_type": "markdown",
      "metadata": {
        "id": "a5w0t5-To1nB"
      },
      "source": [
        "2.  Split the dataset as 70-30% for training and testing. Create a logistic regression model to predict the 'precip_type'. Report the prediction accuracy of your model whether the \"precip_type\" is \"rain\" or not (use decision threshold of 0.45). \n",
        "\n"
      ]
    },
    {
      "cell_type": "code",
      "metadata": {
        "id": "9KrJtdVsH00D",
        "colab": {
          "base_uri": "https://localhost:8080/",
          "height": 69
        },
        "outputId": "d908d3d8-f9ad-4aeb-e25a-0f7e78488db5"
      },
      "source": [
        "# part 2.2: logistic regression\n",
        "df_logistic = df\n",
        "\n",
        "# check data imbalance\n",
        "target_count = df_logistic['precip_type_dummy'].value_counts()\n",
        "print('Rain - 0:', target_count[0])\n",
        "print('Snow - 1:', target_count[1])\n",
        "print('Proportion:', round(target_count[0] / target_count[1], 2), ': 1')\n"
      ],
      "execution_count": null,
      "outputs": [
        {
          "output_type": "stream",
          "text": [
            "Rain - 0: 85224\n",
            "Snow - 1: 11229\n",
            "Proportion: 7.59 : 1\n"
          ],
          "name": "stdout"
        }
      ]
    },
    {
      "cell_type": "code",
      "metadata": {
        "id": "vzRgiUq9wEHY",
        "colab": {
          "base_uri": "https://localhost:8080/",
          "height": 158
        },
        "outputId": "624aed10-9c12-469d-8734-f19b3b8a867f"
      },
      "source": [
        "# part 2.2: logistic regression\n",
        "\n",
        "# define target and predictors\n",
        "y = df_logistic['precip_type_dummy']\n",
        "x = df_logistic.drop(['precip_type_dummy', 'recording_date_time'], axis=1)\n",
        "\n",
        "columns = x.columns\n",
        "\n",
        "# split data 70, 30\n",
        "x_train, x_test, y_train, y_test = train_test_split(x, y, test_size=0.3, random_state=0, stratify=y)\n",
        "\n",
        "# normalize data\n",
        "scaler = StandardScaler()\n",
        "x_train = scaler.fit_transform(x_train)\n",
        "x_test = scaler.transform(x_test)\n",
        "\n",
        "# data imbalance, do resampling\n",
        "os = SMOTE(random_state=0)\n",
        "x_train_os,y_train_os = os.fit_sample(x_train, y_train)\n",
        "x_train = pd.DataFrame(data=x_train_os,columns=columns )\n",
        "y_train= pd.DataFrame(data=y_train_os,columns=['precip_type_dummy'])\n",
        "\n",
        "# check new sample\n",
        "print(\"Now length of data is \",len(x_train))\n",
        "print(\"Rain:\",len(y_train[y_train['precip_type_dummy']==0]))\n",
        "print(\"Snow:\",len(y_train[y_train['precip_type_dummy']==1]))\n",
        "print(\"Proportion of rain:\",len(y_train[y_train['precip_type_dummy']==0])/len(x_train))\n",
        "print(\"Proportion of snow:\",len(y_train[y_train['precip_type_dummy']==1])/len(x_train))"
      ],
      "execution_count": null,
      "outputs": [
        {
          "output_type": "stream",
          "text": [
            "/usr/local/lib/python3.6/dist-packages/sklearn/utils/deprecation.py:87: FutureWarning: Function safe_indexing is deprecated; safe_indexing is deprecated in version 0.22 and will be removed in version 0.24.\n",
            "  warnings.warn(msg, category=FutureWarning)\n"
          ],
          "name": "stderr"
        },
        {
          "output_type": "stream",
          "text": [
            "Now length of data is  119314\n",
            "Rain: 59657\n",
            "Snow: 59657\n",
            "Proportion of rain: 0.5\n",
            "Proportion of snow: 0.5\n"
          ],
          "name": "stdout"
        }
      ]
    },
    {
      "cell_type": "code",
      "metadata": {
        "id": "v_4ZuvMZH00M",
        "colab": {
          "base_uri": "https://localhost:8080/",
          "height": 138
        },
        "outputId": "a01fada9-6a04-4331-ed26-c5ea8bc949a1"
      },
      "source": [
        "# feature selections using recursive elimination\n",
        "\n",
        "x_test = pd.DataFrame(data=x_test,columns=columns )\n",
        "\n",
        "log_reg = LogisticRegression()\n",
        "rfe = RFE(log_reg, n_features_to_select=5) \n",
        "rfe = rfe.fit(x_train, y_train.values.ravel())\n",
        "\n",
        "for i in range(x_train.shape[1]):\n",
        "    print('Column: %i %s, Selected %s, Rank: %.3f' % (i, columns[i], rfe.support_[i], rfe.ranking_[i]))\n",
        "    \n",
        "classifier = LogisticRegression(random_state=0, penalty= 'l2')\n",
        "log_reg = classifier.fit(x_train[x_train.columns[rfe.support_]], y_train.values.ravel())\n",
        "\n",
        "decision_threshold = 0.45 #class 1 (snow) if p > 0.45 otherwise class 0 (rain)\n",
        "\n",
        "y_pred_prob = log_reg.predict_proba(x_test[x_train.columns[rfe.support_]])\n",
        "\n",
        "y_pred = binarize(y_pred_prob, threshold=decision_threshold)[:,1]\n"
      ],
      "execution_count": null,
      "outputs": [
        {
          "output_type": "stream",
          "text": [
            "Column: 0 temperature, Selected True, Rank: 1.000\n",
            "Column: 1 apparent_temperature, Selected True, Rank: 1.000\n",
            "Column: 2 humidity, Selected True, Rank: 1.000\n",
            "Column: 3 wind_speed, Selected True, Rank: 1.000\n",
            "Column: 4 wind_bearing, Selected False, Rank: 3.000\n",
            "Column: 5 visibility, Selected True, Rank: 1.000\n",
            "Column: 6 pressure, Selected False, Rank: 2.000\n"
          ],
          "name": "stdout"
        }
      ]
    },
    {
      "cell_type": "markdown",
      "metadata": {
        "id": "Yn7--XRkrIK9"
      },
      "source": [
        " 3.  Discuss the test performance using precision, recall and confusion matrix. \n",
        " <br/>I use these abbreviations: True Positive (TP), True Negative (TN), FP (False Positive), FN (False Negative)\n",
        " <br/> From the confusion matrix: the model predicted 23038 cases correctly as rain (TP). The model predicted 3290 cases correctly as snow (TN). Others cases are misclassifed. There are 2529 cases where the model predicted a sample as snow but it's actually rain (FN), there are 160 cases where the model predicted a sample as rain but it is actually snow (FP). \n",
        "<br/>From the accuracy score: My model has 90.7% accuracy (TP+TN/TP+FP+FN+TN)\n",
        "<br/>From the precision score: 0.71 of samples that the model predicted as rain, are actually rain (TP/TP+FP)\n",
        "<br/>From the recall score: Of all the actual rains, the model predicted 0.93 of the samples correctly as rain (TP/TP+FN)"
      ]
    },
    {
      "cell_type": "code",
      "metadata": {
        "id": "7GpmkeRLOOkM",
        "colab": {
          "base_uri": "https://localhost:8080/",
          "height": 206
        },
        "outputId": "d133dd24-3cd8-4dbf-a8a3-30ad7df214c2"
      },
      "source": [
        "# part 2.2: test performance\n",
        "\n",
        "# Predicting Test Set\n",
        "print('\\naccuracy:', accuracy_score(y_test, y_pred))\n",
        "\n",
        "precision_metric = precision_score(y_test, y_pred, average = \"macro\")\n",
        "print('Precision Metric:', precision_metric)\n",
        "\n",
        "recall_metric = recall_score(y_test, y_pred, average = \"macro\")\n",
        "print('\\nRecall Metric:', recall_metric)\n",
        "\n",
        "# confusion matrix\n",
        "confusion_matrix = pd.crosstab(y_test, y_pred, rownames=['Actual'], colnames=['Predicted'])\n",
        "print('\\nConfusion Matrix:')\n",
        "print(confusion_matrix)"
      ],
      "execution_count": null,
      "outputs": [
        {
          "output_type": "stream",
          "text": [
            "\n",
            "accuracy: 0.9070707768869228\n",
            "Precision Metric: 0.7761784745989719\n",
            "\n",
            "Recall Metric: 0.9267957952578818\n",
            "\n",
            "Confusion Matrix:\n",
            "Predicted    0.0   1.0\n",
            "Actual                \n",
            "0          23038  2529\n",
            "1            160  3209\n"
          ],
          "name": "stdout"
        }
      ]
    },
    {
      "cell_type": "markdown",
      "metadata": {
        "id": "uJZCDkQcH_k6"
      },
      "source": [
        "##**Part 3: Objective function optimisation:**  **(6 marks)**"
      ]
    },
    {
      "cell_type": "markdown",
      "metadata": {
        "id": "7DrSojxhXpwL"
      },
      "source": [
        "Let’s consider the line graphs shown below and answer the following questions [Hint: See weekly content 7.4-7.10],"
      ]
    },
    {
      "cell_type": "markdown",
      "metadata": {
        "id": "_eGL6Jz_KJdH"
      },
      "source": [
        "<html>&nbsp;&nbsp;&nbsp;&nbsp;&nbsp;&nbsp;&nbsp;&nbsp;&nbsp;&nbsp;&nbsp;&nbsp;&nbsp;&nbsp;&nbsp;&nbsp;&nbsp;&nbsp;&nbsp;&nbsp;&nbsp;&nbsp;&nbsp;&nbsp;&nbsp;(a)&nbsp;&nbsp;&nbsp;&nbsp;&nbsp;&nbsp;&nbsp;&nbsp;&nbsp;&nbsp;&nbsp;&nbsp;&nbsp;&nbsp;&nbsp;&nbsp;&nbsp;&nbsp;&nbsp;&nbsp;&nbsp;&nbsp;&nbsp;&nbsp;&nbsp;&nbsp;&nbsp;&nbsp;&nbsp;&nbsp;&nbsp;&nbsp;&nbsp;&nbsp;&nbsp;&nbsp;&nbsp;&nbsp;&nbsp;&nbsp;&nbsp;&nbsp;&nbsp;&nbsp;&nbsp;&nbsp;&nbsp;&nbsp;&nbsp;&nbsp;&nbsp;&nbsp;&nbsp;&nbsp;&nbsp;&nbsp;&nbsp;&nbsp;&nbsp;&nbsp;(b)</html>\n",
        "\n",
        "![image.png](data:image/png;base64,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)\n",
        "\n",
        "\n"
      ]
    },
    {
      "cell_type": "markdown",
      "metadata": {
        "id": "iBRBSZiqKzLh"
      },
      "source": [
        "\n",
        "a.  Which of the above figures represents the convex objective function and why? "
      ]
    },
    {
      "cell_type": "markdown",
      "metadata": {
        "id": "m6RKRpn6H00c"
      },
      "source": [
        "*Answer*: \n",
        "\n",
        "Figure (a) represents the convex objective function, because the line segment between any two points in the function will always be above the graph portion between the two points."
      ]
    },
    {
      "cell_type": "markdown",
      "metadata": {
        "id": "qVY64KWUH00d"
      },
      "source": [
        "b.  Which hyper-parameter can help to reach the convergence point and the impact of value selection?"
      ]
    },
    {
      "cell_type": "markdown",
      "metadata": {
        "id": "1tMeKBEDH00d"
      },
      "source": [
        "*Answer*:\n",
        "\n",
        "The learning rate. Impact of value selection: A learning rate that is too low will cause convergence to take a long time. A learning rate that is too high can make the learning jump over minima (overshooting)\n"
      ]
    },
    {
      "cell_type": "markdown",
      "metadata": {
        "id": "97-vprGQH00e"
      },
      "source": [
        "c.  How can we find the global minima for the objective function shown in Figure-b? _[N.B. Conceptual description will be accepted.]_"
      ]
    },
    {
      "cell_type": "markdown",
      "metadata": {
        "id": "b-OMRWK7H00f"
      },
      "source": [
        "*Answer*:\n",
        "\n",
        " In this case, a closed form formula is not available, so we need to solve it iteratively by performing Coordinate-wise Gradient Descent optimisation. \n",
        "We do this by first randomly initialising **w**. At each iteration, for j = 1 to d, we optimise wj, while fixing w1, ... 2j-1, wj+1, ... wd, using gradient descent.\n",
        "We continue doing this until the objective function stops changing."
      ]
    }
  ]
}